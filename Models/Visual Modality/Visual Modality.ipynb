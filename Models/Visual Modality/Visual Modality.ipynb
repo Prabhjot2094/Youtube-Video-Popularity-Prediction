{
 "cells": [
  {
   "cell_type": "markdown",
   "metadata": {},
   "source": [
    "# Load the features and initialize the constants"
   ]
  },
  {
   "cell_type": "code",
   "execution_count": 5,
   "metadata": {},
   "outputs": [],
   "source": [
    "import os\n",
    "import json\n",
    "import numpy as np\n",
    "import pandas as pd\n",
    "from collections import defaultdict\n",
    "import matplotlib.pyplot as plt\n",
    "\n",
    "import tensorflow as tf\n",
    "import tensorflow.keras.backend as kb\n",
    "#from keras.utils.vis_utils import plot_model\n",
    "from sklearn.model_selection import train_test_split\n",
    "\n",
    "\n",
    "from tensorflow.keras import Model\n",
    "from tensorflow.keras.preprocessing.text import Tokenizer\n",
    "from tensorflow.keras.preprocessing.sequence import pad_sequences\n",
    "from tensorflow.keras.regularizers import l1_l2\n",
    "from tensorflow.keras.layers import Embedding, Input, Conv1D, MaxPooling1D, Flatten, Dense, BatchNormalization, concatenate, LSTM\n",
    "from tensorflow.keras.utils import plot_model\n",
    "from matplotlib import pyplot"
   ]
  },
  {
   "cell_type": "markdown",
   "metadata": {},
   "source": [
    "# Visual Features"
   ]
  },
  {
   "cell_type": "code",
   "execution_count": 7,
   "metadata": {},
   "outputs": [
    {
     "name": "stdout",
     "output_type": "stream",
     "text": [
      "Number of features used for training :  296\n"
     ]
    }
   ],
   "source": [
    "# ---------------------------------------\n",
    "# Read feature names\n",
    "# ---------------------------------------\n",
    "\n",
    "f = open(\"../../Data/Visual/openface_feature_names.json\", \"r\")\n",
    "all_features = json.load(f)\n",
    "f.close()\n",
    "\n",
    "#Regex to link feature names to what they represent\n",
    "feature_regex = {\n",
    "    \"action_units\": ['AU'],\n",
    "    \"gaze\": ['gaze'],\n",
    "    \"shape\": ['p_'],\n",
    "    \"landmarks_2d\": [' x_', ' y_'],\n",
    "    \"landmarks_3d\": [' X_', ' Y_', ' Z_'],\n",
    "    \"eye_lmk_2d\": [\"lmk_x\", \"lmk_y\"],\n",
    "    \"eye_lmk_3d\": [\"lmk_X\", \"lmk_Y\", \"lmk_Z\"],\n",
    "    \"output\": [\"rating\"]\n",
    "}\n",
    "features = defaultdict(list)\n",
    "for feature, regexes in feature_regex.items():\n",
    "    for col in all_features:\n",
    "        for regex in regexes:\n",
    "            if regex in col:\n",
    "                features[feature].append(col)\n",
    "\n",
    "#Features to use for training\n",
    "training_features = ['gaze', 'landmarks_2d', 'eye_lmk_2d', 'shape']\n",
    "training_features = [ftr_name for feature in training_features for ftr_name in features[feature]]\n",
    "\n",
    "feature_indices = sorted([all_features.index(feature) for feature in training_features])\n",
    "\n",
    "#Constants\n",
    "FEATURE_INDICES = feature_indices\n",
    "MAX_FRAMES_PER_VIDEO = 600 #Pad/Truncate data to maitain 800 frames\n",
    "FEATURE_COUNT = len(FEATURE_INDICES)\n",
    "print(\"Number of features used for training : \", FEATURE_COUNT)"
   ]
  },
  {
   "cell_type": "markdown",
   "metadata": {},
   "source": [
    "# Deep Learning"
   ]
  },
  {
   "cell_type": "code",
   "execution_count": 26,
   "metadata": {},
   "outputs": [],
   "source": [
    "#Generator to load data in batches to avoid memory overflow\n",
    "\n",
    "#Features and labels can be processed inside this generator\n",
    "def gen(ftr_files):\n",
    "    ftr_files = [file.decode() for file in ftr_files]\n",
    "    \n",
    "    for i, file in enumerate(ftr_files):\n",
    "        #print(i, file)\n",
    "        #Ignore hidden files such as '.dstore'\n",
    "        #if '.npy' not in file:\n",
    "        #    continue\n",
    "        try: #If any issues with reading the current file or missing label, ignore the video\n",
    "            ftrs = np.load(f'../../Data/Visual/visual_features_scaled/{file}.npy')\n",
    "            label = np.load(f'../../Data/Labels/{file}.npy')\n",
    "            \n",
    "            ftrs = ftrs[:, FEATURE_INDICES]\n",
    "            v_id = file.split('.')[0]\n",
    "            \n",
    "        except Exception as e:\n",
    "            print(e)\n",
    "            continue\n",
    "        \n",
    "        #Pad 0 valued frames(at the end) if frame count for the video lower than MAX_FRAMES_PER_VIDEO\n",
    "        #Delete frames(from the front) if frame count grater than MAX_FRAMES_PER_VIDEO\n",
    "        ftrs = tf.keras.preprocessing.sequence.pad_sequences([ftrs], maxlen=MAX_FRAMES_PER_VIDEO, \n",
    "                                                             dtype='float64', padding='post', \n",
    "                                                               truncating='pre', value=0.0)\n",
    "        \n",
    "        label = max(label, 0.001)\n",
    "        #print(label)\n",
    "        \n",
    "        yield ftrs[0], label"
   ]
  },
  {
   "cell_type": "code",
   "execution_count": 27,
   "metadata": {},
   "outputs": [],
   "source": [
    "#Generate an LSTM\n",
    "def generate_model(input_size, max_length):\n",
    "    model = tf.keras.Sequential()\n",
    "    \n",
    "    model.add(tf.keras.layers.InputLayer(input_shape = (input_size, max_length), name=\"input1\"))\n",
    "    \n",
    "    rnn_layer = tf.keras.layers.LSTM(units = 50, activation = 'sigmoid', dropout = 0, recurrent_dropout = 0, implementation = 1, return_sequences = False)\n",
    "    model.add(rnn_layer)\n",
    "    \n",
    "    dense_layer = tf.keras.layers.Dense(30)\n",
    "    model.add(dense_layer)\n",
    "    \n",
    "    dense_layer = tf.keras.layers.Dense(1)\n",
    "    model.add(dense_layer)\n",
    "    \n",
    "    model.compile(loss = 'mean_absolute_error', optimizer = tf.keras.optimizers.Adam(learning_rate = 1e-2))\n",
    "    #model.compile(loss=custom_loss, optimizer = tf.keras.optimizers.Adam(learning_rate = 1e-2)) \n",
    "    model.build()\n",
    "    model.summary()\n",
    "    return model\n",
    "\n",
    "def custom_loss(y_actual,y_pred):\n",
    "    #custom_loss=100*(kb.abs((y_actual-kb.abs(y_pred)))/y_actual)\n",
    "    #print(tf.executing_eagerly())\n",
    "    #print(tf.math.equal(kb.abs(y_pred), y_pred))\n",
    "    #x = tf.math.less(y_pred, kb.abs(y_pred))\n",
    "    #if :\n",
    "    custom_loss = tf.math.maximum(100.0, -1*(tf.math.sign(y_pred)*500))*(kb.abs((y_actual-kb.abs(y_pred)))/y_actual)\n",
    "    return custom_loss#tf.math.max(custom_loss, custom_loss_2)"
   ]
  },
  {
   "cell_type": "code",
   "execution_count": 28,
   "metadata": {},
   "outputs": [
    {
     "name": "stdout",
     "output_type": "stream",
     "text": [
      "768 193\n"
     ]
    }
   ],
   "source": [
    "#Create the train and test datasets\n",
    "\n",
    "#Create bins and return files from every bin. Files to be returned per bin are pre-defined\n",
    "files_per_bin = 100\n",
    "def get_train_test_files():\n",
    "    ftr_files = [file for file in os.listdir('../../Data/Labels/') if '.npy' in file]\n",
    "    np.random.shuffle(ftr_files)\n",
    "    \n",
    "    ratings = dict()        \n",
    "    for file in ftr_files:\n",
    "        video_id = file.split('.npy')[0]\n",
    "        ratings[video_id] = [np.load(f'../../Data/Labels/{file}')]\n",
    "    \n",
    "    bins=10\n",
    "    df_labels = pd.DataFrame.from_dict(ratings, orient='index', columns=['ratings'])\n",
    "    #print(df_labels.columns, df_labels.index)\n",
    "    #print(df_labels.groupby(pd.cut(df_labels['ratings'], bins=bins)).size())\n",
    "    \n",
    "    grps = df_labels.groupby(pd.cut(df_labels['ratings'], bins=bins))\n",
    "    binned_files = [None for _ in range(bins)]\n",
    "    for i, grp in enumerate(grps):\n",
    "        video_id, _df = grp\n",
    "        binned_files[i] = [file+\".npy\" for file in _df.index.values]\n",
    "    \n",
    "    #print(binned_files)\n",
    "    #print(df_labels[df_labels['ratings']<0])\n",
    "    \n",
    "    #Keep x% of data as training\n",
    "    train_size = 80 #In %age\n",
    "    train, test = list(), list()\n",
    "    for files in binned_files:\n",
    "        files = files[:files_per_bin]\n",
    "        file_count = len(files)\n",
    "        split_index = (file_count*80)//100\n",
    "        \n",
    "        train += list(files[:split_index])\n",
    "        test += list(files[split_index:])\n",
    "    \n",
    "    return train, test\n",
    "\n",
    "#train, test = get_train_test_files()\n",
    "\n",
    "#Video ids to be used\n",
    "with open(\"../../Data/video_ids_balanced.json\", \"r\") as f:\n",
    "    ids_balanced = json.load(f)\n",
    "ids_balanced = [vid[:-4] for vid in ids_balanced]\n",
    "\n",
    "ids_count = len(ids_balanced)\n",
    "split = (ids_count*80)//100\n",
    "train, test = ids_balanced[:split], ids_balanced[split:]\n",
    "\n",
    "# f = open(\"video_ids_unbalanced.json\", \"w\")\n",
    "# json.dump(train+test, f)\n",
    "# f.close()\n",
    "# print(len(train+test))\n",
    "\n",
    "print(len(train), len(test))\n",
    "#print(train, test)\n",
    "#Training dataset\n",
    "dataset_train = tf.data.Dataset.from_generator(\n",
    "     gen, output_types=(tf.float64, tf.float64),\n",
    "     output_shapes=(tf.TensorShape((None, None)), tf.TensorShape(())), args=(train,))\n",
    "\n",
    "dataset_train_batched = dataset_train.batch(64, drop_remainder=True)\n",
    "dataset_train_batched_prefetched = dataset_train_batched.prefetch(1)\n",
    "\n",
    "\n",
    "#Test dataset\n",
    "dataset_test = tf.data.Dataset.from_generator(\n",
    "     gen, (tf.float64, tf.float64),\n",
    "     output_shapes=(tf.TensorShape((None, None)), tf.TensorShape(())), args=(test,))\n",
    "dataset_test_batched = dataset_test.batch(30, drop_remainder=True)\n",
    "dataset_test_prefetched = dataset_test_batched.prefetch(1)"
   ]
  },
  {
   "cell_type": "code",
   "execution_count": 29,
   "metadata": {},
   "outputs": [
    {
     "name": "stdout",
     "output_type": "stream",
     "text": [
      "Model: \"sequential_3\"\n",
      "_________________________________________________________________\n",
      "Layer (type)                 Output Shape              Param #   \n",
      "=================================================================\n",
      "lstm_3 (LSTM)                (None, 50)                69400     \n",
      "_________________________________________________________________\n",
      "dense_6 (Dense)              (None, 30)                1530      \n",
      "_________________________________________________________________\n",
      "dense_7 (Dense)              (None, 1)                 31        \n",
      "=================================================================\n",
      "Total params: 70,961\n",
      "Trainable params: 70,961\n",
      "Non-trainable params: 0\n",
      "_________________________________________________________________\n"
     ]
    }
   ],
   "source": [
    "model = generate_model(MAX_FRAMES_PER_VIDEO, FEATURE_COUNT)"
   ]
  },
  {
   "cell_type": "code",
   "execution_count": 30,
   "metadata": {
    "scrolled": false
   },
   "outputs": [
    {
     "name": "stdout",
     "output_type": "stream",
     "text": [
      "Epoch 1/10\n",
      "12/12 [==============================] - 12s 1s/step - loss: 0.5238 - val_loss: 0.4304\n",
      "Epoch 2/10\n",
      "12/12 [==============================] - 12s 997ms/step - loss: 0.4288 - val_loss: 0.6435\n",
      "Epoch 3/10\n",
      "12/12 [==============================] - 12s 981ms/step - loss: 0.6819 - val_loss: 0.2858\n",
      "Epoch 4/10\n",
      "12/12 [==============================] - 15s 1s/step - loss: 0.2435 - val_loss: 0.4463\n",
      "Epoch 5/10\n",
      "12/12 [==============================] - 11s 913ms/step - loss: 0.4948 - val_loss: 0.2131\n",
      "Epoch 6/10\n",
      "12/12 [==============================] - 12s 978ms/step - loss: 0.2895 - val_loss: 0.2176\n",
      "Epoch 7/10\n",
      "12/12 [==============================] - 10s 842ms/step - loss: 0.2860 - val_loss: 0.2192\n",
      "Epoch 8/10\n",
      "12/12 [==============================] - 11s 944ms/step - loss: 0.2897 - val_loss: 0.2149\n",
      "Epoch 9/10\n",
      "12/12 [==============================] - 12s 1s/step - loss: 0.2794 - val_loss: 0.2155\n",
      "Epoch 10/10\n",
      "12/12 [==============================] - 12s 959ms/step - loss: 0.2784 - val_loss: 0.2159\n"
     ]
    }
   ],
   "source": [
    "history = model.fit(dataset_train_batched, epochs=10, validation_data=dataset_test_batched)\n",
    "#history = model.fit(dataset_train, epochs=10, validation_data=dataset_test)"
   ]
  },
  {
   "cell_type": "code",
   "execution_count": 31,
   "metadata": {},
   "outputs": [
    {
     "data": {
      "text/plain": [
       "[<matplotlib.lines.Line2D at 0x134ca2a58>]"
      ]
     },
     "execution_count": 31,
     "metadata": {},
     "output_type": "execute_result"
    },
    {
     "data": {
      "image/png": "[encoded data removed]",
      "text/plain": [
       "<Figure size 432x288 with 1 Axes>"
      ]
     },
     "metadata": {
      "needs_background": "light"
     },
     "output_type": "display_data"
    }
   ],
   "source": [
    "plt.plot(history.history['loss'])\n",
    "plt.plot(history.history['val_loss'])"
   ]
  },
  {
   "cell_type": "code",
   "execution_count": 34,
   "metadata": {},
   "outputs": [
    {
     "name": "stdout",
     "output_type": "stream",
     "text": [
      "(180,) (180,)\n"
     ]
    },
    {
     "data": {
      "text/plain": [
       "<matplotlib.collections.PathCollection at 0x134a480b8>"
      ]
     },
     "execution_count": 34,
     "metadata": {},
     "output_type": "execute_result"
    },
    {
     "data": {
      "image/png": "[encoded data removed]",
      "text/plain": [
       "<Figure size 432x288 with 1 Axes>"
      ]
     },
     "metadata": {
      "needs_background": "light"
     },
     "output_type": "display_data"
    }
   ],
   "source": [
    "x_test = np.array([ele for batch in dataset_test_batched.as_numpy_iterator() for ele in batch[0]])\n",
    "y_test = np.array([ele for batch in dataset_test_batched.as_numpy_iterator() for ele in batch[1]])\n",
    "results = model.predict(x_test)\n",
    "results = results.reshape(-1)\n",
    "print(results.shape,y_test.shape)\n",
    "plt.scatter(results, y_test)"
   ]
  },
  {
   "cell_type": "code",
   "execution_count": 35,
   "metadata": {},
   "outputs": [
    {
     "name": "stdout",
     "output_type": "stream",
     "text": [
      "Test MSE = 0.06835222989320755\n"
     ]
    }
   ],
   "source": [
    "print(f\"Test MSE = {tf.keras.losses.MSE(y_test, results).numpy()}\")"
   ]
  },
  {
   "cell_type": "code",
   "execution_count": null,
   "metadata": {},
   "outputs": [],
   "source": [
    "tf.keras.utils.plot_model(model)"
   ]
  }
 ],
 "metadata": {
  "kernelspec": {
   "display_name": "Python 3",
   "language": "python",
   "name": "python3"
  },
  "language_info": {
   "codemirror_mode": {
    "name": "ipython",
    "version": 3
   },
   "file_extension": ".py",
   "mimetype": "text/x-python",
   "name": "python",
   "nbconvert_exporter": "python",
   "pygments_lexer": "ipython3",
   "version": "3.6.5"
  }
 },
 "nbformat": 4,
 "nbformat_minor": 2
}
