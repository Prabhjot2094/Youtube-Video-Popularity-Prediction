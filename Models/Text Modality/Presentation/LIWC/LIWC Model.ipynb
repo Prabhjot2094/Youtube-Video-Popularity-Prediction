{
 "cells": [
  {
   "cell_type": "code",
   "execution_count": 1,
   "metadata": {},
   "outputs": [
    {
     "name": "stdout",
     "output_type": "stream",
     "text": [
      "Requirement already satisfied: pandas in /usr/local/lib/python3.7/site-packages (1.0.1)\n",
      "Requirement already satisfied: numpy>=1.13.3 in /usr/local/lib/python3.7/site-packages (from pandas) (1.18.1)\n",
      "Requirement already satisfied: python-dateutil>=2.6.1 in /usr/local/lib/python3.7/site-packages (from pandas) (2.7.2)\n",
      "Requirement already satisfied: pytz>=2017.2 in /usr/local/lib/python3.7/site-packages (from pandas) (2019.3)\n",
      "Requirement already satisfied: six>=1.5 in /usr/local/lib/python3.7/site-packages (from python-dateutil>=2.6.1->pandas) (1.14.0)\n",
      "Requirement already satisfied: numpy in /usr/local/lib/python3.7/site-packages (1.18.1)\n"
     ]
    }
   ],
   "source": [
    "!pip install pandas\n",
    "!pip install numpy"
   ]
  },
  {
   "cell_type": "code",
   "execution_count": 2,
   "metadata": {},
   "outputs": [],
   "source": [
    "import pandas as pd\n",
    "import os\n",
    "import json\n",
    "import numpy as np\n",
    "from sklearn import preprocessing\n",
    "import tensorflow as tf\n",
    "from tensorflow.keras import Model\n",
    "from tensorflow.keras.preprocessing.text import Tokenizer\n",
    "from tensorflow.keras.preprocessing.sequence import pad_sequences\n",
    "from tensorflow.keras.utils import plot_model\n",
    "from tensorflow.keras.regularizers import l1_l2\n",
    "from tensorflow.keras.layers import Input, LSTM, Dense, TimeDistributed, Bidirectional\n",
    "from matplotlib import pyplot"
   ]
  },
  {
   "cell_type": "code",
   "execution_count": 3,
   "metadata": {},
   "outputs": [],
   "source": [
    "liwc_features = pd.read_csv('./LIWC2015 Results (data-kushal).csv')\n",
    "liwc_features = liwc_features.drop(['Source (A)', 'Source (C)', 'Source (D)'], axis = 1)\n",
    "liwc_features = liwc_features.rename(columns={'Source (B)': 'video_id'})"
   ]
  },
  {
   "cell_type": "code",
   "execution_count": 4,
   "metadata": {},
   "outputs": [
    {
     "name": "stdout",
     "output_type": "stream",
     "text": [
      "./processed_video/audio_xCgk9nvuCxk_txt failed processing\n",
      "./processed_video/audio_Q_ouhkdo-ko_txt failed processing\n",
      "\n",
      "Shape of labels:  (3389,)\n"
     ]
    }
   ],
   "source": [
    "# Read all the data\n",
    "labels = []\n",
    "labels_mapping = {}\n",
    "label_count = 0\n",
    "df = pd.read_csv('./raw_data.csv')\n",
    "\n",
    "for index, row in df.iterrows():\n",
    "    path = os.path.join('./processed_video', 'audio_' + row['video_id'] + '_txt')\n",
    "    \n",
    "    if os.path.isfile(path):\n",
    "        with open(path, 'r') as f:\n",
    "            try:\n",
    "                file_data = json.load(f)\n",
    "                labels.append((row['video_likeCount'] - row['video_dislikeCount'])/row['video_viewCount'])\n",
    "                labels_mapping[row['video_id']] = label_count\n",
    "                label_count = label_count + 1\n",
    "                \n",
    "            except ValueError:\n",
    "                print(path + ' failed processing')\n",
    "\n",
    "labels = np.array(labels)\n",
    "print()\n",
    "print('Shape of labels: ', labels.shape)"
   ]
  },
  {
   "cell_type": "code",
   "execution_count": 5,
   "metadata": {},
   "outputs": [
    {
     "name": "stdout",
     "output_type": "stream",
     "text": [
      "(-0.021500000000000002, -0.0122]       1\n",
      "(-0.0122, -0.00398]                    7\n",
      "(-0.00398, 0.00421]                  225\n",
      "(0.00421, 0.0124]                   1094\n",
      "(0.0124, 0.0206]                    1021\n",
      "(0.0206, 0.0288]                     613\n",
      "(0.0288, 0.037]                      264\n",
      "(0.037, 0.0452]                      103\n",
      "(0.0452, 0.0533]                      31\n",
      "(0.0533, 0.0615]                      17\n",
      "(0.0615, 0.0697]                       5\n",
      "(0.0697, 0.0779]                       2\n",
      "(0.0779, 0.0861]                       1\n",
      "(0.0861, 0.0943]                       1\n",
      "(0.0943, 0.102]                        0\n",
      "(0.102, 0.111]                         1\n",
      "(0.111, 0.119]                         1\n",
      "(0.119, 0.127]                         0\n",
      "(0.127, 0.135]                         1\n",
      "(0.135, 0.143]                         1\n",
      "dtype: int64\n"
     ]
    }
   ],
   "source": [
    "label_series = pd.Series(labels)\n",
    "print(label_series.value_counts(bins=20).sort_index())"
   ]
  },
  {
   "cell_type": "code",
   "execution_count": 6,
   "metadata": {},
   "outputs": [],
   "source": [
    "# Prepare data for cnn lstm by concatenating frames, normalizing labels and defining constants\n",
    "labels = np.clip(labels, 0.00421, 0.037)\n",
    "min_label = np.min(labels)\n",
    "max_label = np.max(labels)\n",
    "scaled_labels = (labels - min_label)/(max_label - min_label)"
   ]
  },
  {
   "cell_type": "code",
   "execution_count": 7,
   "metadata": {},
   "outputs": [],
   "source": [
    "inputs = np.zeros((3389, 186, 50))\n",
    "\n",
    "for video_id, index in labels_mapping.items():\n",
    "    video_features = liwc_features.loc[liwc_features.video_id == video_id, ['compare', 'i', 'Colon', 'home', 'focuspast', 'pronoun', 'ppron', 'anx', 'Dash',\n",
    " 'Sixltr', 'Analytic', 'auxverb', 'friend', 'OtherP', 'informal', 'number',\n",
    " 'assent', 'WC', 'we', 'WPS', 'function', 'verb', 'negemo', 'family', 'Apostro',\n",
    " 'ipron', 'feel', 'prep', 'body', 'relig', 'sexual', 'insight', 'cogproc',\n",
    " 'filler', 'they', 'conj', 'leisure', 'Dic', 'netspeak', 'negate', 'focuspresent',\n",
    " 'QMark', 'AllPunc', 'affiliation', 'work', 'space', 'article', 'Authentic',\n",
    " 'health', 'death']].to_numpy()\n",
    "    x, y = video_features.shape\n",
    "    inputs[index, 0:x, :] = video_features\n",
    "    del video_features, x, y"
   ]
  },
  {
   "cell_type": "code",
   "execution_count": 8,
   "metadata": {},
   "outputs": [
    {
     "name": "stdout",
     "output_type": "stream",
     "text": [
      "Shape of training tensor: (2373, 186, 50)\n",
      "Shape of training labels: (2373,)\n",
      "Shape of testing tensor: (1016, 186, 50)\n",
      "Shape of testing labels: (1016,)\n"
     ]
    }
   ],
   "source": [
    "indices = np.arange(inputs.shape[0])\n",
    "np.random.shuffle(indices)\n",
    "data = inputs[indices]\n",
    "labels = scaled_labels[indices]\n",
    "nb_validation_samples = int(0.3 * data.shape[0])\n",
    "\n",
    "x_train = data[:-nb_validation_samples]\n",
    "y_train = labels[:-nb_validation_samples]\n",
    "\n",
    "x_val = data[-nb_validation_samples:]\n",
    "y_val = labels[-nb_validation_samples:]\n",
    "\n",
    "print('Shape of training tensor:', x_train.shape)\n",
    "print('Shape of training labels:', y_train.shape)\n",
    "print('Shape of testing tensor:', x_val.shape)\n",
    "print('Shape of testing labels:', y_val.shape)"
   ]
  },
  {
   "cell_type": "code",
   "execution_count": 9,
   "metadata": {},
   "outputs": [],
   "source": [
    "input_1 = Input(shape=(186, 50), dtype='float32', name = 'input_1')\n",
    "# dense_1 = TimeDistributed(Dense(186, input_shape = (186, 50) ,activation='relu'))(input_1)\n",
    "lstm_1 = LSTM(1, activation='tanh', kernel_regularizer=l1_l2(l1=1e-5, l2=1e-5), activity_regularizer=l1_l2(l1=1e-5, l2=1e-5), recurrent_regularizer=l1_l2(l1=1e-5, l2=1e-5), dropout=0.2)(input_1)\n",
    "preds = Dense(1, activation='linear')(lstm_1)\n",
    "\n",
    "model = Model(input_1, preds)\n",
    "model.compile(loss=tf.keras.losses.MeanSquaredError(),\n",
    "              optimizer=tf.keras.optimizers.Adam(),\n",
    "              metrics=[tf.keras.metrics.RootMeanSquaredError()])"
   ]
  },
  {
   "cell_type": "code",
   "execution_count": 10,
   "metadata": {},
   "outputs": [
    {
     "name": "stdout",
     "output_type": "stream",
     "text": [
      "Model: \"model\"\n",
      "_________________________________________________________________\n",
      "Layer (type)                 Output Shape              Param #   \n",
      "=================================================================\n",
      "input_1 (InputLayer)         [(None, 186, 50)]         0         \n",
      "_________________________________________________________________\n",
      "lstm (LSTM)                  (None, 1)                 208       \n",
      "_________________________________________________________________\n",
      "dense (Dense)                (None, 1)                 2         \n",
      "=================================================================\n",
      "Total params: 210\n",
      "Trainable params: 210\n",
      "Non-trainable params: 0\n",
      "_________________________________________________________________\n",
      "None\n"
     ]
    },
    {
     "data": {
      "image/png": "[encoded data removed]",
      "text/plain": [
       "<IPython.core.display.Image object>"
      ]
     },
     "execution_count": 10,
     "metadata": {},
     "output_type": "execute_result"
    }
   ],
   "source": [
    "print(model.summary())\n",
    "plot_model(model, 'multi_input_and_output_model.png', show_shapes=True)"
   ]
  },
  {
   "cell_type": "code",
   "execution_count": 11,
   "metadata": {},
   "outputs": [
    {
     "name": "stdout",
     "output_type": "stream",
     "text": [
      "Train on 2135 samples, validate on 238 samples\n",
      "Epoch 1/15\n",
      "2135/2135 [==============================] - 8s 4ms/sample - loss: 0.2151 - root_mean_squared_error: 0.4633 - val_loss: 0.2165 - val_root_mean_squared_error: 0.4649\n",
      "Epoch 2/15\n",
      "2135/2135 [==============================] - 2s 836us/sample - loss: 0.1905 - root_mean_squared_error: 0.4360 - val_loss: 0.1911 - val_root_mean_squared_error: 0.4367\n",
      "Epoch 3/15\n",
      "2135/2135 [==============================] - 2s 1ms/sample - loss: 0.1663 - root_mean_squared_error: 0.4073 - val_loss: 0.1665 - val_root_mean_squared_error: 0.4076\n",
      "Epoch 4/15\n",
      "2135/2135 [==============================] - 2s 898us/sample - loss: 0.1432 - root_mean_squared_error: 0.3780 - val_loss: 0.1429 - val_root_mean_squared_error: 0.3776\n",
      "Epoch 5/15\n",
      "2135/2135 [==============================] - 2s 723us/sample - loss: 0.1217 - root_mean_squared_error: 0.3484 - val_loss: 0.1219 - val_root_mean_squared_error: 0.3487\n",
      "Epoch 6/15\n",
      "2135/2135 [==============================] - 2s 735us/sample - loss: 0.1039 - root_mean_squared_error: 0.3219 - val_loss: 0.1050 - val_root_mean_squared_error: 0.3236\n",
      "Epoch 7/15\n",
      "2135/2135 [==============================] - 2s 719us/sample - loss: 0.0908 - root_mean_squared_error: 0.3009 - val_loss: 0.0941 - val_root_mean_squared_error: 0.3063\n",
      "Epoch 8/15\n",
      "2135/2135 [==============================] - 2s 744us/sample - loss: 0.0837 - root_mean_squared_error: 0.2890 - val_loss: 0.0886 - val_root_mean_squared_error: 0.2973\n",
      "Epoch 9/15\n",
      "2135/2135 [==============================] - 2s 741us/sample - loss: 0.0814 - root_mean_squared_error: 0.2849 - val_loss: 0.0868 - val_root_mean_squared_error: 0.2943\n",
      "Epoch 10/15\n",
      "2135/2135 [==============================] - 2s 746us/sample - loss: 0.0804 - root_mean_squared_error: 0.2833 - val_loss: 0.0864 - val_root_mean_squared_error: 0.2937\n",
      "Epoch 11/15\n",
      "2135/2135 [==============================] - 2s 736us/sample - loss: 0.0804 - root_mean_squared_error: 0.2832 - val_loss: 0.0863 - val_root_mean_squared_error: 0.2935\n",
      "Epoch 12/15\n",
      "2135/2135 [==============================] - 2s 721us/sample - loss: 0.0806 - root_mean_squared_error: 0.2836 - val_loss: 0.0864 - val_root_mean_squared_error: 0.2936\n",
      "Epoch 13/15\n",
      "2135/2135 [==============================] - 2s 776us/sample - loss: 0.0803 - root_mean_squared_error: 0.2831 - val_loss: 0.0864 - val_root_mean_squared_error: 0.2936\n",
      "Epoch 14/15\n",
      "2135/2135 [==============================] - 2s 774us/sample - loss: 0.0804 - root_mean_squared_error: 0.2832 - val_loss: 0.0864 - val_root_mean_squared_error: 0.2936\n",
      "Epoch 15/15\n",
      "2135/2135 [==============================] - 3s 1ms/sample - loss: 0.0804 - root_mean_squared_error: 0.2832 - val_loss: 0.0863 - val_root_mean_squared_error: 0.2936\n"
     ]
    }
   ],
   "source": [
    "history = model.fit(x_train, y_train, validation_split = 0.1, epochs=15, batch_size=128)"
   ]
  },
  {
   "cell_type": "code",
   "execution_count": 12,
   "metadata": {},
   "outputs": [
    {
     "data": {
      "image/png": "[encoded data removed]",
      "text/plain": [
       "<Figure size 432x288 with 1 Axes>"
      ]
     },
     "metadata": {
      "needs_background": "light"
     },
     "output_type": "display_data"
    }
   ],
   "source": [
    "pyplot.plot(history.history['loss'], label='train') \n",
    "pyplot.plot(history.history['val_loss'], label='test') \n",
    "pyplot.legend()\n",
    "pyplot.show()"
   ]
  },
  {
   "cell_type": "code",
   "execution_count": 13,
   "metadata": {},
   "outputs": [
    {
     "name": "stdout",
     "output_type": "stream",
     "text": [
      "Loss on validation set is 0.07767955\n"
     ]
    }
   ],
   "source": [
    "predictions = model.predict(x_val)\n",
    "mse = tf.keras.losses.MeanSquaredError()\n",
    "loss = mse(y_val, predictions)\n",
    "print('Loss on validation set is %s' % loss.numpy())"
   ]
  },
  {
   "cell_type": "code",
   "execution_count": 14,
   "metadata": {},
   "outputs": [
    {
     "data": {
      "image/png": "[encoded data removed]",
      "text/plain": [
       "<Figure size 432x288 with 1 Axes>"
      ]
     },
     "metadata": {
      "needs_background": "light"
     },
     "output_type": "display_data"
    }
   ],
   "source": [
    "pyplot.plot(y_val, predictions, 'o',label=\"Our results\")\n",
    "pyplot.plot([0,1], label=\"Perfect results\")\n",
    "pyplot.xlabel(\"Actual\")\n",
    "pyplot.ylabel(\"Predicted\")\n",
    "pyplot.legend()\n",
    "pyplot.savefig('liwc_unbalanced.png')"
   ]
  },
  {
   "cell_type": "code",
   "execution_count": 15,
   "metadata": {},
   "outputs": [
    {
     "name": "stdout",
     "output_type": "stream",
     "text": [
      "Data points with score more than 0.7 137:\n",
      "Loss on validation set is 0.25890014\n"
     ]
    }
   ],
   "source": [
    "# More fine grained accuracy calculations\n",
    "huge_score = np.squeeze(np.argwhere(y_val > 0.7))\n",
    "print('Data points with score more than 0.7 %s:' % len(huge_score))\n",
    "val_data = x_val[huge_score,:]\n",
    "y_true = y_val[huge_score]\n",
    "predictions = model.predict(val_data)\n",
    "loss = mse(y_true, predictions)\n",
    "print('Loss on validation set is %s' % loss.numpy())"
   ]
  },
  {
   "cell_type": "code",
   "execution_count": 16,
   "metadata": {},
   "outputs": [
    {
     "name": "stdout",
     "output_type": "stream",
     "text": [
      "Data points with score less than 0.3 485:\n",
      "Loss on validation set is 0.07424574\n"
     ]
    }
   ],
   "source": [
    "# More fine grained accuracy calculations\n",
    "huge_score = np.squeeze(np.argwhere(y_val < 0.3))\n",
    "print('Data points with score less than 0.3 %s:' % len(huge_score))\n",
    "val_data = x_val[huge_score,:]\n",
    "y_true = y_val[huge_score]\n",
    "predictions = model.predict(val_data)\n",
    "loss = mse(y_true, predictions)\n",
    "print('Loss on validation set is %s' % loss.numpy())"
   ]
  },
  {
   "cell_type": "code",
   "execution_count": 17,
   "metadata": {},
   "outputs": [
    {
     "name": "stdout",
     "output_type": "stream",
     "text": [
      "Data points with score greater than 0.3 and less than 0.7 394:\n",
      "Loss on validation set is 0.018891873\n"
     ]
    }
   ],
   "source": [
    "# More fine grained accuracy calculations\n",
    "huge_score = np.squeeze(np.argwhere((y_val > 0.3) & (y_val < 0.7)))\n",
    "print('Data points with score greater than 0.3 and less than 0.7 %s:' % len(huge_score))\n",
    "val_data = x_val[huge_score,:]\n",
    "y_true = y_val[huge_score]\n",
    "predictions = model.predict(val_data)\n",
    "loss = mse(y_true, predictions)\n",
    "print('Loss on validation set is %s' % loss.numpy())"
   ]
  },
  {
   "cell_type": "code",
   "execution_count": null,
   "metadata": {},
   "outputs": [],
   "source": []
  }
 ],
 "metadata": {
  "kernelspec": {
   "display_name": "Python 3",
   "language": "python",
   "name": "python3"
  },
  "language_info": {
   "codemirror_mode": {
    "name": "ipython",
    "version": 3
   },
   "file_extension": ".py",
   "mimetype": "text/x-python",
   "name": "python",
   "nbconvert_exporter": "python",
   "pygments_lexer": "ipython3",
   "version": "3.7.6"
  }
 },
 "nbformat": 4,
 "nbformat_minor": 4
}
