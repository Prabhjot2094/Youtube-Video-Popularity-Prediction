{
 "cells": [
  {
   "cell_type": "code",
   "execution_count": 1,
   "metadata": {},
   "outputs": [
    {
     "name": "stdout",
     "output_type": "stream",
     "text": [
      "Requirement already satisfied: pandas in /usr/local/lib/python3.7/site-packages (1.0.1)\n",
      "Requirement already satisfied: numpy>=1.13.3 in /usr/local/lib/python3.7/site-packages (from pandas) (1.18.1)\n",
      "Requirement already satisfied: pytz>=2017.2 in /usr/local/lib/python3.7/site-packages (from pandas) (2019.3)\n",
      "Requirement already satisfied: python-dateutil>=2.6.1 in /usr/local/lib/python3.7/site-packages (from pandas) (2.7.2)\n",
      "Requirement already satisfied: six>=1.5 in /usr/local/lib/python3.7/site-packages (from python-dateutil>=2.6.1->pandas) (1.14.0)\n",
      "Requirement already satisfied: numpy in /usr/local/lib/python3.7/site-packages (1.18.1)\n"
     ]
    }
   ],
   "source": [
    "!pip install pandas\n",
    "!pip install numpy"
   ]
  },
  {
   "cell_type": "code",
   "execution_count": 2,
   "metadata": {},
   "outputs": [],
   "source": [
    "import pandas as pd\n",
    "import os\n",
    "import json\n",
    "import numpy as np\n",
    "from sklearn import preprocessing\n",
    "import tensorflow as tf\n",
    "from tensorflow.keras import Model\n",
    "from tensorflow.keras.preprocessing.text import Tokenizer\n",
    "from tensorflow.keras.preprocessing.sequence import pad_sequences\n",
    "from tensorflow.keras.utils import plot_model\n",
    "from tensorflow.keras.regularizers import l1_l2\n",
    "from tensorflow.keras.layers import Input, LSTM, Dense, TimeDistributed, Bidirectional\n",
    "from matplotlib import pyplot"
   ]
  },
  {
   "cell_type": "code",
   "execution_count": 3,
   "metadata": {},
   "outputs": [],
   "source": [
    "liwc_features = pd.read_csv('./LIWC2015 Results (data-kushal).csv')\n",
    "liwc_features = liwc_features.drop(['Source (A)', 'Source (C)', 'Source (D)'], axis = 1)\n",
    "liwc_features = liwc_features.rename(columns={'Source (B)': 'video_id'})\n",
    "\n",
    "ids_to_use = []\n",
    "with open('./video_ids_balanced.json', 'r') as f:\n",
    "    ids_to_use = json.load(f)"
   ]
  },
  {
   "cell_type": "code",
   "execution_count": 4,
   "metadata": {},
   "outputs": [
    {
     "name": "stdout",
     "output_type": "stream",
     "text": [
      "\n",
      "Shape of labels:  (961,)\n"
     ]
    }
   ],
   "source": [
    "# Read all the data\n",
    "labels = []\n",
    "labels_mapping = {}\n",
    "label_count = 0\n",
    "df = pd.read_csv('./raw_data.csv')\n",
    "\n",
    "for index, row in df.iterrows():\n",
    "    video_id = row['video_id']\n",
    "    mod_id = video_id + '.npy'\n",
    "    path = os.path.join('./processed_video', 'audio_' + video_id + '_txt')\n",
    "    \n",
    "    if os.path.isfile(path) and mod_id in ids_to_use:\n",
    "        with open(path, 'r') as f:\n",
    "            try:\n",
    "                file_data = json.load(f)\n",
    "                labels.append((row['video_likeCount'] - row['video_dislikeCount'])/row['video_viewCount'])\n",
    "                labels_mapping[row['video_id']] = label_count\n",
    "                label_count = label_count + 1\n",
    "                \n",
    "            except ValueError:\n",
    "                print(path + ' failed processing')\n",
    "\n",
    "labels = np.array(labels)\n",
    "print()\n",
    "print('Shape of labels: ', labels.shape)"
   ]
  },
  {
   "cell_type": "code",
   "execution_count": 5,
   "metadata": {},
   "outputs": [
    {
     "name": "stdout",
     "output_type": "stream",
     "text": [
      "(-0.0010119, 0.00479]     75\n",
      "(0.00479, 0.0095]        120\n",
      "(0.0095, 0.0142]         104\n",
      "(0.0142, 0.0189]         109\n",
      "(0.0189, 0.0236]         103\n",
      "(0.0236, 0.0283]         108\n",
      "(0.0283, 0.033]          118\n",
      "(0.033, 0.0377]           90\n",
      "(0.0377, 0.0425]          62\n",
      "(0.0425, 0.0472]          25\n",
      "(0.0472, 0.0519]          18\n",
      "(0.0519, 0.0566]          14\n",
      "(0.0566, 0.0613]           5\n",
      "(0.0613, 0.066]            4\n",
      "(0.066, 0.0707]            2\n",
      "(0.0707, 0.0754]           2\n",
      "(0.0754, 0.0801]           1\n",
      "(0.0801, 0.0848]           0\n",
      "(0.0848, 0.0895]           0\n",
      "(0.0895, 0.0942]           1\n",
      "dtype: int64\n"
     ]
    }
   ],
   "source": [
    "label_series = pd.Series(labels)\n",
    "print(label_series.value_counts(bins=20).sort_index())"
   ]
  },
  {
   "cell_type": "code",
   "execution_count": 6,
   "metadata": {},
   "outputs": [],
   "source": [
    "# Prepare data for cnn lstm by concatenating frames, normalizing labels and defining constants\n",
    "labels = np.clip(labels, 0.00421, 0.037)\n",
    "min_label = np.min(labels)\n",
    "max_label = np.max(labels)\n",
    "scaled_labels = (labels - min_label)/(max_label - min_label)"
   ]
  },
  {
   "cell_type": "code",
   "execution_count": 7,
   "metadata": {},
   "outputs": [],
   "source": [
    "inputs = np.zeros((961, 186, 50))\n",
    "\n",
    "for video_id, index in labels_mapping.items():\n",
    "    video_features = liwc_features.loc[liwc_features.video_id == video_id, ['compare', 'i', 'Colon', 'home', 'focuspast', 'pronoun', 'ppron', 'anx', 'Dash',\n",
    " 'Sixltr', 'Analytic', 'auxverb', 'friend', 'OtherP', 'informal', 'number',\n",
    " 'assent', 'WC', 'we', 'WPS', 'function', 'verb', 'negemo', 'family', 'Apostro',\n",
    " 'ipron', 'feel', 'prep', 'body', 'relig', 'sexual', 'insight', 'cogproc',\n",
    " 'filler', 'they', 'conj', 'leisure', 'Dic', 'netspeak', 'negate', 'focuspresent',\n",
    " 'QMark', 'AllPunc', 'affiliation', 'work', 'space', 'article', 'Authentic',\n",
    " 'health', 'death']].to_numpy()\n",
    "    x, y = video_features.shape\n",
    "    inputs[index, 0:x, :] = video_features\n",
    "    del video_features, x, y"
   ]
  },
  {
   "cell_type": "code",
   "execution_count": 8,
   "metadata": {},
   "outputs": [
    {
     "name": "stdout",
     "output_type": "stream",
     "text": [
      "Shape of training tensor: (673, 186, 50)\n",
      "Shape of training labels: (673,)\n",
      "Shape of testing tensor: (288, 186, 50)\n",
      "Shape of testing labels: (288,)\n"
     ]
    }
   ],
   "source": [
    "indices = np.arange(inputs.shape[0])\n",
    "np.random.shuffle(indices)\n",
    "data = inputs[indices]\n",
    "labels = scaled_labels[indices]\n",
    "nb_validation_samples = int(0.3 * data.shape[0])\n",
    "\n",
    "x_train = data[:-nb_validation_samples]\n",
    "y_train = labels[:-nb_validation_samples]\n",
    "\n",
    "x_val = data[-nb_validation_samples:]\n",
    "y_val = labels[-nb_validation_samples:]\n",
    "\n",
    "print('Shape of training tensor:', x_train.shape)\n",
    "print('Shape of training labels:', y_train.shape)\n",
    "print('Shape of testing tensor:', x_val.shape)\n",
    "print('Shape of testing labels:', y_val.shape)"
   ]
  },
  {
   "cell_type": "code",
   "execution_count": 9,
   "metadata": {},
   "outputs": [],
   "source": [
    "input_1 = Input(shape=(186, 50), dtype='float32', name = 'input_1')\n",
    "# dense_1 = TimeDistributed(Dense(186, input_shape = (186, 50) ,activation='relu'))(input_1)\n",
    "lstm_1 = LSTM(1, activation='tanh', kernel_regularizer=l1_l2(l1=1e-5, l2=1e-5), activity_regularizer=l1_l2(l1=1e-5, l2=1e-5), recurrent_regularizer=l1_l2(l1=1e-5, l2=1e-5), dropout=0.2)(input_1)\n",
    "preds = Dense(1, activation='linear')(lstm_1)\n",
    "\n",
    "model = Model(input_1, preds)\n",
    "model.compile(loss=tf.keras.losses.MeanSquaredError(),\n",
    "              optimizer=tf.keras.optimizers.Adam(),\n",
    "              metrics=[tf.keras.metrics.RootMeanSquaredError()])"
   ]
  },
  {
   "cell_type": "code",
   "execution_count": 10,
   "metadata": {},
   "outputs": [
    {
     "name": "stdout",
     "output_type": "stream",
     "text": [
      "Model: \"model\"\n",
      "_________________________________________________________________\n",
      "Layer (type)                 Output Shape              Param #   \n",
      "=================================================================\n",
      "input_1 (InputLayer)         [(None, 186, 50)]         0         \n",
      "_________________________________________________________________\n",
      "lstm (LSTM)                  (None, 1)                 208       \n",
      "_________________________________________________________________\n",
      "dense (Dense)                (None, 1)                 2         \n",
      "=================================================================\n",
      "Total params: 210\n",
      "Trainable params: 210\n",
      "Non-trainable params: 0\n",
      "_________________________________________________________________\n",
      "None\n"
     ]
    },
    {
     "data": {
      "image/png": "[encoded data removed]",
      "text/plain": [
       "<IPython.core.display.Image object>"
      ]
     },
     "execution_count": 10,
     "metadata": {},
     "output_type": "execute_result"
    }
   ],
   "source": [
    "print(model.summary())\n",
    "plot_model(model, 'multi_input_and_output_model.png', show_shapes=True)"
   ]
  },
  {
   "cell_type": "code",
   "execution_count": 11,
   "metadata": {},
   "outputs": [
    {
     "name": "stdout",
     "output_type": "stream",
     "text": [
      "Train on 605 samples, validate on 68 samples\n",
      "Epoch 1/15\n",
      "605/605 [==============================] - 3s 4ms/sample - loss: 0.4007 - root_mean_squared_error: 0.6327 - val_loss: 0.3349 - val_root_mean_squared_error: 0.5783\n",
      "Epoch 2/15\n",
      "605/605 [==============================] - 0s 703us/sample - loss: 0.3911 - root_mean_squared_error: 0.6250 - val_loss: 0.3263 - val_root_mean_squared_error: 0.5708\n",
      "Epoch 3/15\n",
      "605/605 [==============================] - 0s 726us/sample - loss: 0.3816 - root_mean_squared_error: 0.6174 - val_loss: 0.3177 - val_root_mean_squared_error: 0.5633\n",
      "Epoch 4/15\n",
      "605/605 [==============================] - 0s 744us/sample - loss: 0.3723 - root_mean_squared_error: 0.6098 - val_loss: 0.3093 - val_root_mean_squared_error: 0.5558\n",
      "Epoch 5/15\n",
      "605/605 [==============================] - 0s 672us/sample - loss: 0.3630 - root_mean_squared_error: 0.6021 - val_loss: 0.3009 - val_root_mean_squared_error: 0.5482\n",
      "Epoch 6/15\n",
      "605/605 [==============================] - 0s 730us/sample - loss: 0.3537 - root_mean_squared_error: 0.5944 - val_loss: 0.2927 - val_root_mean_squared_error: 0.5407\n",
      "Epoch 7/15\n",
      "605/605 [==============================] - 0s 716us/sample - loss: 0.3446 - root_mean_squared_error: 0.5867 - val_loss: 0.2846 - val_root_mean_squared_error: 0.5332\n",
      "Epoch 8/15\n",
      "605/605 [==============================] - 1s 841us/sample - loss: 0.3357 - root_mean_squared_error: 0.5791 - val_loss: 0.2766 - val_root_mean_squared_error: 0.5256\n",
      "Epoch 9/15\n",
      "605/605 [==============================] - 0s 754us/sample - loss: 0.3269 - root_mean_squared_error: 0.5714 - val_loss: 0.2687 - val_root_mean_squared_error: 0.5181\n",
      "Epoch 10/15\n",
      "605/605 [==============================] - 0s 738us/sample - loss: 0.3181 - root_mean_squared_error: 0.5637 - val_loss: 0.2610 - val_root_mean_squared_error: 0.5105\n",
      "Epoch 11/15\n",
      "605/605 [==============================] - 0s 720us/sample - loss: 0.3095 - root_mean_squared_error: 0.5560 - val_loss: 0.2534 - val_root_mean_squared_error: 0.5030\n",
      "Epoch 12/15\n",
      "605/605 [==============================] - 0s 691us/sample - loss: 0.3011 - root_mean_squared_error: 0.5484 - val_loss: 0.2459 - val_root_mean_squared_error: 0.4955\n",
      "Epoch 13/15\n",
      "605/605 [==============================] - 0s 736us/sample - loss: 0.2926 - root_mean_squared_error: 0.5406 - val_loss: 0.2385 - val_root_mean_squared_error: 0.4881\n",
      "Epoch 14/15\n",
      "605/605 [==============================] - 0s 745us/sample - loss: 0.2843 - root_mean_squared_error: 0.5329 - val_loss: 0.2314 - val_root_mean_squared_error: 0.4807\n",
      "Epoch 15/15\n",
      "605/605 [==============================] - 0s 733us/sample - loss: 0.2763 - root_mean_squared_error: 0.5254 - val_loss: 0.2243 - val_root_mean_squared_error: 0.4733\n"
     ]
    }
   ],
   "source": [
    "history = model.fit(x_train, y_train, validation_split = 0.1, epochs=15, batch_size=128)"
   ]
  },
  {
   "cell_type": "code",
   "execution_count": 12,
   "metadata": {},
   "outputs": [
    {
     "data": {
      "image/png": "[encoded data removed]",
      "text/plain": [
       "<Figure size 432x288 with 1 Axes>"
      ]
     },
     "metadata": {
      "needs_background": "light"
     },
     "output_type": "display_data"
    }
   ],
   "source": [
    "pyplot.plot(history.history['loss'], label='train') \n",
    "pyplot.plot(history.history['val_loss'], label='test') \n",
    "pyplot.legend()\n",
    "pyplot.show()"
   ]
  },
  {
   "cell_type": "code",
   "execution_count": 13,
   "metadata": {},
   "outputs": [
    {
     "name": "stdout",
     "output_type": "stream",
     "text": [
      "Loss on validation set is 0.28654566\n"
     ]
    }
   ],
   "source": [
    "predictions = model.predict(x_val)\n",
    "mse = tf.keras.losses.MeanSquaredError()\n",
    "loss = mse(y_val, predictions)\n",
    "print('Loss on validation set is %s' % loss.numpy())"
   ]
  },
  {
   "cell_type": "code",
   "execution_count": 14,
   "metadata": {},
   "outputs": [
    {
     "data": {
      "image/png": "[encoded data removed]",
      "text/plain": [
       "<Figure size 432x288 with 1 Axes>"
      ]
     },
     "metadata": {
      "needs_background": "light"
     },
     "output_type": "display_data"
    }
   ],
   "source": [
    "pyplot.plot(y_val, predictions, 'o',label=\"Our results\")\n",
    "pyplot.plot([0,1], label=\"Perfect results\")\n",
    "pyplot.xlabel(\"Actual\")\n",
    "pyplot.ylabel(\"Predicted\")\n",
    "pyplot.legend()\n",
    "pyplot.savefig('liwc_model_balanced.png')"
   ]
  },
  {
   "cell_type": "code",
   "execution_count": 15,
   "metadata": {},
   "outputs": [
    {
     "name": "stdout",
     "output_type": "stream",
     "text": [
      "Data points with score more than 0.7 121:\n",
      "Loss on validation set is 0.57577044\n"
     ]
    }
   ],
   "source": [
    "# More fine grained accuracy calculations\n",
    "huge_score = np.squeeze(np.argwhere(y_val > 0.7))\n",
    "print('Data points with score more than 0.7 %s:' % len(huge_score))\n",
    "val_data = x_val[huge_score,:]\n",
    "y_true = y_val[huge_score]\n",
    "predictions = model.predict(val_data)\n",
    "loss = mse(y_true, predictions)\n",
    "print('Loss on validation set is %s' % loss.numpy())"
   ]
  },
  {
   "cell_type": "code",
   "execution_count": 16,
   "metadata": {},
   "outputs": [
    {
     "name": "stdout",
     "output_type": "stream",
     "text": [
      "Data points with score less than 0.3 84:\n",
      "Loss on validation set is 0.010378821\n"
     ]
    }
   ],
   "source": [
    "# More fine grained accuracy calculations\n",
    "huge_score = np.squeeze(np.argwhere(y_val < 0.3))\n",
    "print('Data points with score less than 0.3 %s:' % len(huge_score))\n",
    "val_data = x_val[huge_score,:]\n",
    "y_true = y_val[huge_score]\n",
    "predictions = model.predict(val_data)\n",
    "loss = mse(y_true, predictions)\n",
    "print('Loss on validation set is %s' % loss.numpy())"
   ]
  },
  {
   "cell_type": "code",
   "execution_count": 17,
   "metadata": {},
   "outputs": [
    {
     "name": "stdout",
     "output_type": "stream",
     "text": [
      "Data points with score greater than 0.3 and less than 0.7 83:\n",
      "Loss on validation set is 0.14439858\n"
     ]
    }
   ],
   "source": [
    "# More fine grained accuracy calculations\n",
    "huge_score = np.squeeze(np.argwhere((y_val > 0.3) & (y_val < 0.7)))\n",
    "print('Data points with score greater than 0.3 and less than 0.7 %s:' % len(huge_score))\n",
    "val_data = x_val[huge_score,:]\n",
    "y_true = y_val[huge_score]\n",
    "predictions = model.predict(val_data)\n",
    "loss = mse(y_true, predictions)\n",
    "print('Loss on validation set is %s' % loss.numpy())"
   ]
  },
  {
   "cell_type": "code",
   "execution_count": null,
   "metadata": {},
   "outputs": [],
   "source": []
  }
 ],
 "metadata": {
  "kernelspec": {
   "display_name": "Python 3",
   "language": "python",
   "name": "python3"
  },
  "language_info": {
   "codemirror_mode": {
    "name": "ipython",
    "version": 3
   },
   "file_extension": ".py",
   "mimetype": "text/x-python",
   "name": "python",
   "nbconvert_exporter": "python",
   "pygments_lexer": "ipython3",
   "version": "3.7.6"
  }
 },
 "nbformat": 4,
 "nbformat_minor": 4
}
