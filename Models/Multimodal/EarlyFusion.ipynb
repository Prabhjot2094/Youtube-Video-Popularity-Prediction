{
 "cells": [
  {
   "cell_type": "markdown",
   "metadata": {},
   "source": [
    "# Load the features and initialize the constants"
   ]
  },
  {
   "cell_type": "code",
   "execution_count": 530,
   "metadata": {},
   "outputs": [],
   "source": [
    "#%load_ext autoreload\n",
    "%autoreload 2\n",
    "import os\n",
    "import json\n",
    "import numpy as np\n",
    "import pandas as pd\n",
    "from collections import defaultdict\n",
    "import matplotlib.pyplot as plt\n",
    "\n",
    "import tensorflow as tf\n",
    "import tensorflow.keras.backend as kb\n",
    "#from keras.utils.vis_utils import plot_model\n",
    "from sklearn.model_selection import train_test_split\n",
    "\n",
    "\n",
    "from tensorflow.keras import Model\n",
    "from tensorflow.keras.preprocessing.text import Tokenizer\n",
    "from tensorflow.keras.preprocessing.sequence import pad_sequences\n",
    "from tensorflow.keras.regularizers import l1_l2\n",
    "from tensorflow.keras.layers import Embedding, Input, Conv1D, MaxPooling1D, Flatten, Dense, BatchNormalization, concatenate, LSTM\n",
    "from tensorflow.keras.utils import plot_model\n",
    "from matplotlib import pyplot\n",
    "\n",
    "import pydot, graphviz\n",
    "import keras\n",
    "import pydotplus\n",
    "from keras.utils.vis_utils import model_to_dot\n",
    "keras.utils.vis_utils.pydot = pydot"
   ]
  },
  {
   "cell_type": "markdown",
   "metadata": {},
   "source": [
    "# Visual Features"
   ]
  },
  {
   "cell_type": "code",
   "execution_count": 619,
   "metadata": {},
   "outputs": [
    {
     "name": "stdout",
     "output_type": "stream",
     "text": [
      "Number of features used for training :  296\n"
     ]
    }
   ],
   "source": [
    "# ---------------------------------------\n",
    "# Read feature names\n",
    "# ---------------------------------------\n",
    "\n",
    "f = open(\"../../openface_feature_names.json\", \"r\")\n",
    "all_features = json.load(f)\n",
    "f.close()\n",
    "\n",
    "#Regex to link feature names to what they represent\n",
    "feature_regex = {\n",
    "    \"action_units\": ['AU'],\n",
    "    \"gaze\": ['gaze'],\n",
    "    \"shape\": ['p_'],\n",
    "    \"landmarks_2d\": [' x_', ' y_'],\n",
    "    \"landmarks_3d\": [' X_', ' Y_', ' Z_'],\n",
    "    \"eye_lmk_2d\": [\"lmk_x\", \"lmk_y\"],\n",
    "    \"eye_lmk_3d\": [\"lmk_X\", \"lmk_Y\", \"lmk_Z\"],\n",
    "    \"output\": [\"rating\"]\n",
    "}\n",
    "features = defaultdict(list)\n",
    "for feature, regexes in feature_regex.items():\n",
    "    for col in all_features:\n",
    "        for regex in regexes:\n",
    "            if regex in col:\n",
    "                features[feature].append(col)\n",
    "\n",
    "#Features to use for training\n",
    "training_features = ['gaze', 'landmarks_2d', 'eye_lmk_2d', 'shape']\n",
    "training_features = [ftr_name for feature in training_features for ftr_name in features[feature]]\n",
    "\n",
    "df_vids = pd.read_csv(\"../../openface_features.csv\", usecols=training_features)\n",
    "\n",
    "feature_indices = sorted([all_features.index(feature) for feature in training_features])\n",
    "\n",
    "#Constants\n",
    "FEATURE_INDICES = feature_indices\n",
    "MAX_FRAMES_PER_VIDEO = 600 #Pad/Truncate data to maitain 800 frames\n",
    "FEATURE_COUNT = len(FEATURE_INDICES)\n",
    "print(\"Number of features used for training : \", FEATURE_COUNT)"
   ]
  },
  {
   "cell_type": "code",
   "execution_count": null,
   "metadata": {},
   "outputs": [],
   "source": []
  },
  {
   "cell_type": "markdown",
   "metadata": {},
   "source": [
    "# Text"
   ]
  },
  {
   "cell_type": "code",
   "execution_count": 471,
   "metadata": {},
   "outputs": [
    {
     "name": "stdout",
     "output_type": "stream",
     "text": [
      "Found 1193514 word vectors.\n"
     ]
    }
   ],
   "source": [
    "GLOVE_DIR = '/Users/prabhjotsingh/Downloads/glove.twitter.27B'\n",
    "EMBEDDING_DIM = 200\n",
    "\n",
    "embeddings_index = {}\n",
    "f = open(os.path.join(GLOVE_DIR, 'glove.twitter.27B.200d.txt'))\n",
    "for line in f:\n",
    "    values = line.split()\n",
    "    word = values[0]\n",
    "    coefs = np.asarray(values[1:], dtype='float32')\n",
    "    embeddings_index[word] = coefs\n",
    "f.close()\n",
    "\n",
    "print('Found %s word vectors.' % len(embeddings_index))\n"
   ]
  },
  {
   "cell_type": "code",
   "execution_count": 500,
   "metadata": {},
   "outputs": [],
   "source": [
    "#Constants\n",
    "MAX_NB_WORDS = 20000\n",
    "MAX_SEQUENCE_LENGTH = 1500"
   ]
  },
  {
   "cell_type": "code",
   "execution_count": 554,
   "metadata": {},
   "outputs": [],
   "source": [
    "word_index = np.load('../../word_index.npy', allow_pickle=True)\n",
    "word_index = word_index.item()\n",
    "embedding_matrix = np.zeros((len(word_index) + 1, EMBEDDING_DIM))\n",
    "for word, i in word_index.items():\n",
    "    embedding_vector = embeddings_index.get(word)\n",
    "    if embedding_vector is not None:\n",
    "        # words not found in embedding index will be all-zeros.\n",
    "        embedding_matrix[i] = embedding_vector"
   ]
  },
  {
   "cell_type": "markdown",
   "metadata": {},
   "source": [
    "# Deep Learning"
   ]
  },
  {
   "cell_type": "code",
   "execution_count": 610,
   "metadata": {},
   "outputs": [],
   "source": [
    "#Generator to load data in batches to avoid memory overflow\n",
    "\n",
    "#Features and labels can be processed inside this generator\n",
    "def gen(ftr_files):\n",
    "    ftr_files = [file.decode() for file in ftr_files]\n",
    "    #text_data = fxn() {video_id: input_features}\n",
    "    ignored_files = list()\n",
    "    \n",
    "    for i, file in enumerate(ftr_files):\n",
    "        #print(i, file)\n",
    "        #Ignore hidden files such as '.dstore'\n",
    "        if '.npy' not in file:\n",
    "            continue\n",
    "        try: #If any issues with reading the current file or missing label, ignore the video\n",
    "            v_id = file.split('.')[0]\n",
    "            label = np.load(f'../../visual_labels/{file}')\n",
    "            \n",
    "            #Visual Features\n",
    "            ftrs = np.load(f'../../visual_features_scaled/{file}')\n",
    "            visual_ftrs = ftrs[:, FEATURE_INDICES]\n",
    "            \n",
    "            #Text Features\n",
    "            txt_ftrs = np.load(f'../../text_data/{file}')\n",
    "            \n",
    "        except Exception as e:\n",
    "            ignored_files.append(v_id)#print(e)\n",
    "            continue\n",
    "        \n",
    "        #Pad 0 valued frames(at the end) if frame count for the video lower than MAX_FRAMES_PER_VIDEO\n",
    "        #Delete frames(from the front) if frame count grater than MAX_FRAMES_PER_VIDEO\n",
    "        visual_ftrs = tf.keras.preprocessing.sequence.pad_sequences([visual_ftrs], maxlen=MAX_FRAMES_PER_VIDEO, \n",
    "                                                             dtype='float64', padding='post', \n",
    "                                                               truncating='pre', value=0.0)\n",
    "        \n",
    "        label = max(label, 0.001)\n",
    "        #print(label)\n",
    "        \n",
    "        #print(\"Text frts shape\", txt_ftrs.shape)\n",
    "        yield {\"input1\":visual_ftrs[0], 'input2':txt_ftrs}, label\n",
    "        \n",
    "    #print(ignored_files)"
   ]
  },
  {
   "cell_type": "code",
   "execution_count": 598,
   "metadata": {},
   "outputs": [],
   "source": [
    "#Generate an LSTM\n",
    "def generate_model(input_size, max_length):\n",
    "    model = tf.keras.Sequential()\n",
    "    \n",
    "    model.add(tf.keras.layers.InputLayer(input_shape = (input_size, max_length), name=\"input1\"))\n",
    "    \n",
    "    rnn_layer = tf.keras.layers.LSTM(units = 50, activation = 'sigmoid', dropout = 0, recurrent_dropout = 0, implementation = 1, return_sequences = False)\n",
    "    model.add(rnn_layer)\n",
    "    \n",
    "    dense_layer = tf.keras.layers.Dense(30)\n",
    "    model.add(dense_layer)\n",
    "    \n",
    "    dense_layer = tf.keras.layers.Dense(1)\n",
    "    model.add(dense_layer)\n",
    "    \n",
    "    model.compile(loss = 'mean_absolute_error', optimizer = tf.keras.optimizers.Adam(learning_rate = 1e-2))\n",
    "    #model.compile(loss=custom_loss, optimizer = tf.keras.optimizers.Adam(learning_rate = 1e-2)) \n",
    "    model.build()\n",
    "    model.summary()\n",
    "    return model\n",
    "\n",
    "def custom_loss(y_actual,y_pred):\n",
    "    #custom_loss=100*(kb.abs((y_actual-kb.abs(y_pred)))/y_actual)\n",
    "    #print(tf.executing_eagerly())\n",
    "    #print(tf.math.equal(kb.abs(y_pred), y_pred))\n",
    "    #x = tf.math.less(y_pred, kb.abs(y_pred))\n",
    "    #if :\n",
    "    custom_loss = tf.math.maximum(100.0, -1*(tf.math.sign(y_pred)*500))*(kb.abs((y_actual-kb.abs(y_pred)))/y_actual)\n",
    "    return custom_loss#tf.math.max(custom_loss, custom_loss_2)"
   ]
  },
  {
   "cell_type": "code",
   "execution_count": 611,
   "metadata": {},
   "outputs": [
    {
     "name": "stdout",
     "output_type": "stream",
     "text": [
      "768 193\n"
     ]
    }
   ],
   "source": [
    "#Create the train and test datasets\n",
    "#ftr_files = [file for file in os.listdir('../../visual_features/') if '.npy' in file]\n",
    "def get_train_test_files():\n",
    "    ftr_files = [file for file in os.listdir('../../visual_labels/') if '.npy' in file]\n",
    "    np.random.shuffle(ftr_files)\n",
    "    \n",
    "    ratings = dict()        \n",
    "    for file in ftr_files:\n",
    "        video_id = file.split('.npy')[0]\n",
    "        ratings[video_id] = [np.load(f'../../visual_labels/{file}')]\n",
    "    \n",
    "    bins=10\n",
    "    files_per_bin = 100\n",
    "    df_labels = pd.DataFrame.from_dict(ratings, orient='index', columns=['ratings'])\n",
    "    #print(df_labels.columns, df_labels.index)\n",
    "    #print(df_labels.groupby(pd.cut(df_labels['ratings'], bins=bins)).size())\n",
    "    \n",
    "    grps = df_labels.groupby(pd.cut(df_labels['ratings'], bins=bins))\n",
    "    binned_files = [None for _ in range(bins)]\n",
    "    for i, grp in enumerate(grps):\n",
    "        video_id, _df = grp\n",
    "        binned_files[i] = [file+\".npy\" for file in _df.index.values]\n",
    "    \n",
    "    #print(binned_files)\n",
    "    #print(df_labels[df_labels['ratings']<0])\n",
    "    \n",
    "    #Keep x% of data as training\n",
    "    train_size = 80 #In %age\n",
    "    train, test = list(), list()\n",
    "    for files in binned_files:\n",
    "        files = files[:files_per_bin]\n",
    "        file_count = len(files)\n",
    "        split_index = (file_count*80)//100\n",
    "        \n",
    "        train += list(files[:split_index])\n",
    "        test += list(files[split_index:])\n",
    "    \n",
    "    return train, test\n",
    "\n",
    "train, test = get_train_test_files()\n",
    "\n",
    "# f = open(\"video_ids_unbalanced.json\", \"w\")\n",
    "# json.dump(train+test, f)\n",
    "# f.close()\n",
    "# print(len(train+test))\n",
    "\n",
    "print(len(train), len(test))\n",
    "dataset_train = tf.data.Dataset.from_generator(\n",
    "                         gen, output_types=({'input1':tf.float64, 'input2':tf.float64}, tf.float64),\n",
    "                         output_shapes=(\n",
    "                                         {'input1': tf.TensorShape((None, None)), \n",
    "                                         'input2': tf.TensorShape((1500))}, \n",
    "                                        tf.TensorShape(())\n",
    "                                       ),\n",
    "                        args=(train,))\n",
    "dataset_train_batched = dataset_train.batch(32, drop_remainder=True)\n",
    "#dataset_train_batched_prefetched = dataset_train_batched.prefetch(1)\n",
    "\n",
    "#Test dataset\n",
    "dataset_test = tf.data.Dataset.from_generator(\n",
    "                            gen, output_types=({'input1':tf.float64,'input2':tf.float64}, tf.float64),\n",
    "                            output_shapes=(\n",
    "                                             {'input1': tf.TensorShape((None, None)), \n",
    "                                             'input2': tf.TensorShape((1500))}, \n",
    "                                            tf.TensorShape(())\n",
    "                                           ),\n",
    "                            args=(test,))\n",
    "dataset_test_batched = dataset_test.batch(30, drop_remainder=True)\n",
    "#dataset_test_prefetched = dataset_test_batched.prefetch(1)"
   ]
  },
  {
   "cell_type": "code",
   "execution_count": 612,
   "metadata": {},
   "outputs": [],
   "source": [
    "#Visual\n",
    "#model = generate_model(MAX_FRAMES_PER_VIDEO, FEATURE_COUNT)\n",
    "\n",
    "#Text\n",
    "embedding_layer = Embedding(len(word_index) + 1,\n",
    "                            EMBEDDING_DIM,\n",
    "                            weights=[embedding_matrix],\n",
    "                            input_length=MAX_SEQUENCE_LENGTH,\n",
    "                            trainable=False)\n",
    "sequence_input = Input(shape=(MAX_SEQUENCE_LENGTH,), dtype='int32', name=\"input2\")\n",
    "embedded_sequences = embedding_layer(sequence_input)\n",
    "x = Conv1D(128, 5, activation='relu', kernel_regularizer=l1_l2(l1=1.e-12, l2=1.e-12))(embedded_sequences)\n",
    "x = MaxPooling1D(5)(x)\n",
    "x = Conv1D(128, 5, activation='relu', kernel_regularizer=l1_l2(l1=1.e-12, l2=1.e-12))(x)\n",
    "x = MaxPooling1D(5)(x)\n",
    "x = Conv1D(128, 5, activation='relu', kernel_regularizer=l1_l2(l1=1.e-12, l2=1.e-12))(x)\n",
    "x = MaxPooling1D(35)(x)  # global max pooling\n",
    "x = Flatten()(x)\n",
    "x = Dense(100, activation='relu')(x)\n",
    "\n",
    "#Multimodal\n",
    "visual_input = Input(shape=(MAX_FRAMES_PER_VIDEO, FEATURE_COUNT), name=\"input1\")\n",
    "secondary_layer = LSTM(100, return_sequences=False)(visual_input)\n",
    "dense_visual = Dense(100)(secondary_layer)"
   ]
  },
  {
   "cell_type": "code",
   "execution_count": 613,
   "metadata": {},
   "outputs": [
    {
     "name": "stdout",
     "output_type": "stream",
     "text": [
      "Model: \"model_28\"\n",
      "__________________________________________________________________________________________________\n",
      "Layer (type)                    Output Shape         Param #     Connected to                     \n",
      "==================================================================================================\n",
      "input2 (InputLayer)             [(None, 1500)]       0                                            \n",
      "__________________________________________________________________________________________________\n",
      "embedding_23 (Embedding)        (None, 1500, 200)    24280600    input2[0][0]                     \n",
      "__________________________________________________________________________________________________\n",
      "conv1d_69 (Conv1D)              (None, 1496, 128)    128128      embedding_23[0][0]               \n",
      "__________________________________________________________________________________________________\n",
      "max_pooling1d_69 (MaxPooling1D) (None, 299, 128)     0           conv1d_69[0][0]                  \n",
      "__________________________________________________________________________________________________\n",
      "conv1d_70 (Conv1D)              (None, 295, 128)     82048       max_pooling1d_69[0][0]           \n",
      "__________________________________________________________________________________________________\n",
      "max_pooling1d_70 (MaxPooling1D) (None, 59, 128)      0           conv1d_70[0][0]                  \n",
      "__________________________________________________________________________________________________\n",
      "conv1d_71 (Conv1D)              (None, 55, 128)      82048       max_pooling1d_70[0][0]           \n",
      "__________________________________________________________________________________________________\n",
      "max_pooling1d_71 (MaxPooling1D) (None, 1, 128)       0           conv1d_71[0][0]                  \n",
      "__________________________________________________________________________________________________\n",
      "input1 (InputLayer)             [(None, 600, 296)]   0                                            \n",
      "__________________________________________________________________________________________________\n",
      "flatten_23 (Flatten)            (None, 128)          0           max_pooling1d_71[0][0]           \n",
      "__________________________________________________________________________________________________\n",
      "lstm_123 (LSTM)                 (None, 100)          158800      input1[0][0]                     \n",
      "__________________________________________________________________________________________________\n",
      "dense_272 (Dense)               (None, 100)          12900       flatten_23[0][0]                 \n",
      "__________________________________________________________________________________________________\n",
      "dense_273 (Dense)               (None, 100)          10100       lstm_123[0][0]                   \n",
      "__________________________________________________________________________________________________\n",
      "concatenate_28 (Concatenate)    (None, 200)          0           dense_272[0][0]                  \n",
      "                                                                 dense_273[0][0]                  \n",
      "__________________________________________________________________________________________________\n",
      "dense_274 (Dense)               (None, 1)            201         concatenate_28[0][0]             \n",
      "==================================================================================================\n",
      "Total params: 24,754,825\n",
      "Trainable params: 474,225\n",
      "Non-trainable params: 24,280,600\n",
      "__________________________________________________________________________________________________\n",
      "None\n",
      "Failed to import pydot. You must install pydot and graphviz for `pydotprint` to work.\n"
     ]
    }
   ],
   "source": [
    "merged_layers = concatenate([x, dense_visual])\n",
    "preds = Dense(1, activation='linear')(merged_layers)\n",
    "\n",
    "model = Model([sequence_input, visual_input], preds)\n",
    "model.compile(loss=tf.keras.losses.MeanSquaredError(),\n",
    "              optimizer=tf.keras.optimizers.Adam(),\n",
    "              metrics=[tf.keras.metrics.RootMeanSquaredError()])\n",
    "\n",
    "print(model.summary())\n",
    "plot_model(model, 'multi_input_and_output_model.png', show_shapes=True)"
   ]
  },
  {
   "cell_type": "code",
   "execution_count": 614,
   "metadata": {
    "scrolled": false
   },
   "outputs": [
    {
     "name": "stdout",
     "output_type": "stream",
     "text": [
      "Epoch 1/25\n",
      "23/23 [==============================] - 24s 1s/step - loss: 0.0917 - root_mean_squared_error: 0.3028 - val_loss: 0.2409 - val_root_mean_squared_error: 0.4908\n",
      "Epoch 2/25\n",
      "23/23 [==============================] - 29s 1s/step - loss: 0.1760 - root_mean_squared_error: 0.4195 - val_loss: 0.1699 - val_root_mean_squared_error: 0.4122\n",
      "Epoch 3/25\n",
      "23/23 [==============================] - 20s 858ms/step - loss: 0.1310 - root_mean_squared_error: 0.3620 - val_loss: 0.0653 - val_root_mean_squared_error: 0.2556\n",
      "Epoch 4/25\n",
      "23/23 [==============================] - 20s 879ms/step - loss: 0.0868 - root_mean_squared_error: 0.2947 - val_loss: 0.0676 - val_root_mean_squared_error: 0.2601\n",
      "Epoch 5/25\n",
      "23/23 [==============================] - 20s 863ms/step - loss: 0.0903 - root_mean_squared_error: 0.3005 - val_loss: 0.0652 - val_root_mean_squared_error: 0.2553\n",
      "Epoch 6/25\n",
      "23/23 [==============================] - 19s 839ms/step - loss: 0.0833 - root_mean_squared_error: 0.2886 - val_loss: 0.0659 - val_root_mean_squared_error: 0.2567\n",
      "Epoch 7/25\n",
      "23/23 [==============================] - 19s 826ms/step - loss: 0.0837 - root_mean_squared_error: 0.2892 - val_loss: 0.0651 - val_root_mean_squared_error: 0.2552\n",
      "Epoch 8/25\n",
      "23/23 [==============================] - 19s 822ms/step - loss: 0.0815 - root_mean_squared_error: 0.2855 - val_loss: 0.0653 - val_root_mean_squared_error: 0.2555\n",
      "Epoch 9/25\n",
      "23/23 [==============================] - 19s 838ms/step - loss: 0.0804 - root_mean_squared_error: 0.2835 - val_loss: 0.0667 - val_root_mean_squared_error: 0.2583\n",
      "Epoch 10/25\n",
      "23/23 [==============================] - 20s 853ms/step - loss: 0.0837 - root_mean_squared_error: 0.2894 - val_loss: 0.0650 - val_root_mean_squared_error: 0.2550\n",
      "Epoch 11/25\n",
      "23/23 [==============================] - 21s 901ms/step - loss: 0.0816 - root_mean_squared_error: 0.2856 - val_loss: 0.0649 - val_root_mean_squared_error: 0.2547\n",
      "Epoch 12/25\n",
      "23/23 [==============================] - 20s 852ms/step - loss: 0.0795 - root_mean_squared_error: 0.2820 - val_loss: 0.0656 - val_root_mean_squared_error: 0.2561\n",
      "Epoch 13/25\n",
      "23/23 [==============================] - 21s 911ms/step - loss: 0.0804 - root_mean_squared_error: 0.2836 - val_loss: 0.0658 - val_root_mean_squared_error: 0.2565\n",
      "Epoch 14/25\n",
      "23/23 [==============================] - 19s 846ms/step - loss: 0.0829 - root_mean_squared_error: 0.2879 - val_loss: 0.0648 - val_root_mean_squared_error: 0.2546\n",
      "Epoch 15/25\n",
      "23/23 [==============================] - 19s 847ms/step - loss: 0.0787 - root_mean_squared_error: 0.2805 - val_loss: 0.0651 - val_root_mean_squared_error: 0.2551\n",
      "Epoch 16/25\n",
      "23/23 [==============================] - 31s 1s/step - loss: 0.0794 - root_mean_squared_error: 0.2817 - val_loss: 0.0649 - val_root_mean_squared_error: 0.2547\n",
      "Epoch 17/25\n",
      "23/23 [==============================] - 20s 874ms/step - loss: 0.0786 - root_mean_squared_error: 0.2804 - val_loss: 0.0651 - val_root_mean_squared_error: 0.2552\n",
      "Epoch 18/25\n",
      "23/23 [==============================] - 20s 862ms/step - loss: 0.0794 - root_mean_squared_error: 0.2818 - val_loss: 0.0647 - val_root_mean_squared_error: 0.2544\n",
      "Epoch 19/25\n",
      "23/23 [==============================] - 20s 860ms/step - loss: 0.0780 - root_mean_squared_error: 0.2792 - val_loss: 0.0651 - val_root_mean_squared_error: 0.2552\n",
      "Epoch 20/25\n",
      "23/23 [==============================] - 20s 878ms/step - loss: 0.0795 - root_mean_squared_error: 0.2819 - val_loss: 0.0651 - val_root_mean_squared_error: 0.2551\n",
      "Epoch 21/25\n",
      "23/23 [==============================] - 20s 879ms/step - loss: 0.0794 - root_mean_squared_error: 0.2817 - val_loss: 0.0649 - val_root_mean_squared_error: 0.2548\n",
      "Epoch 22/25\n",
      "23/23 [==============================] - 20s 890ms/step - loss: 0.0787 - root_mean_squared_error: 0.2806 - val_loss: 0.0647 - val_root_mean_squared_error: 0.2543\n",
      "Epoch 23/25\n",
      "23/23 [==============================] - 20s 886ms/step - loss: 0.0773 - root_mean_squared_error: 0.2781 - val_loss: 0.0649 - val_root_mean_squared_error: 0.2548\n",
      "Epoch 24/25\n",
      "23/23 [==============================] - 20s 889ms/step - loss: 0.0786 - root_mean_squared_error: 0.2804 - val_loss: 0.0647 - val_root_mean_squared_error: 0.2543\n",
      "Epoch 25/25\n",
      "23/23 [==============================] - 20s 882ms/step - loss: 0.0774 - root_mean_squared_error: 0.2781 - val_loss: 0.0650 - val_root_mean_squared_error: 0.2550\n"
     ]
    }
   ],
   "source": [
    "history = model.fit(dataset_train_batched, epochs=25, validation_data=dataset_test_batched)\n",
    "#history = model.fit(dataset_train, epochs=10, validation_data=dataset_test)\n",
    "#history = model.fit()"
   ]
  },
  {
   "cell_type": "code",
   "execution_count": 615,
   "metadata": {},
   "outputs": [
    {
     "data": {
      "text/plain": [
       "[<matplotlib.lines.Line2D at 0x17b8fd5c0>]"
      ]
     },
     "execution_count": 615,
     "metadata": {},
     "output_type": "execute_result"
    },
    {
     "data": {
      "image/png": "[encoded data removed]",
      "text/plain": [
       "<Figure size 432x288 with 1 Axes>"
      ]
     },
     "metadata": {
      "needs_background": "light"
     },
     "output_type": "display_data"
    }
   ],
   "source": [
    "plt.plot(history.history['loss'])"
   ]
  },
  {
   "cell_type": "code",
   "execution_count": 617,
   "metadata": {},
   "outputs": [
    {
     "name": "stdout",
     "output_type": "stream",
     "text": [
      "(180,) (180,)\n"
     ]
    },
    {
     "data": {
      "text/plain": [
       "<matplotlib.collections.PathCollection at 0x17b9a70f0>"
      ]
     },
     "execution_count": 617,
     "metadata": {},
     "output_type": "execute_result"
    },
    {
     "data": {
      "image/png": "[encoded data removed]",
      "text/plain": [
       "<Figure size 432x288 with 1 Axes>"
      ]
     },
     "metadata": {
      "needs_background": "light"
     },
     "output_type": "display_data"
    }
   ],
   "source": [
    "x_test_visual = np.array([ele for batch in dataset_test_batched.as_numpy_iterator() for ele in batch[0]['input1']])\n",
    "x_test_txt = np.array([ele for batch in dataset_test_batched.as_numpy_iterator() for ele in batch[0]['input2']])\n",
    "\n",
    "y_test = np.array([ele for batch in dataset_test_batched.as_numpy_iterator() for ele in batch[1]])\n",
    "results = model.predict({\"input1\":x_test_visual, \"input2\":x_test_txt})\n",
    "results = results.reshape(-1)\n",
    "print(results.shape,y_test.shape)\n",
    "plt.scatter(y_test, results)"
   ]
  },
  {
   "cell_type": "code",
   "execution_count": 264,
   "metadata": {},
   "outputs": [],
   "source": [
    "#print(results, y_test)"
   ]
  },
  {
   "cell_type": "code",
   "execution_count": 265,
   "metadata": {},
   "outputs": [
    {
     "data": {
      "text/plain": [
       "<tf.Tensor: shape=(), dtype=float32, numpy=0.15468521>"
      ]
     },
     "execution_count": 265,
     "metadata": {},
     "output_type": "execute_result"
    }
   ],
   "source": [
    "tf.keras.losses.MSE(y_test, results)"
   ]
  },
  {
   "cell_type": "code",
   "execution_count": 266,
   "metadata": {},
   "outputs": [
    {
     "name": "stdout",
     "output_type": "stream",
     "text": [
      "Failed to import pydot. You must install pydot and graphviz for `pydotprint` to work.\n"
     ]
    }
   ],
   "source": [
    "tf.keras.utils.plot_model(model)"
   ]
  },
  {
   "cell_type": "code",
   "execution_count": 267,
   "metadata": {},
   "outputs": [
    {
     "ename": "NameError",
     "evalue": "name 'inputs' is not defined",
     "output_type": "error",
     "traceback": [
      "\u001b[0;31m---------------------------------------------------------------------------\u001b[0m",
      "\u001b[0;31mNameError\u001b[0m                                 Traceback (most recent call last)",
      "\u001b[0;32m<ipython-input-267-bbbdeca4ed7c>\u001b[0m in \u001b[0;36m<module>\u001b[0;34m\u001b[0m\n\u001b[1;32m      1\u001b[0m \u001b[0;32mimport\u001b[0m \u001b[0mmatplotlib\u001b[0m\u001b[0;34m.\u001b[0m\u001b[0mpyplot\u001b[0m \u001b[0;32mas\u001b[0m \u001b[0mplt\u001b[0m\u001b[0;34m\u001b[0m\u001b[0m\n\u001b[1;32m      2\u001b[0m \u001b[0;34m\u001b[0m\u001b[0m\n\u001b[0;32m----> 3\u001b[0;31m \u001b[0mplt\u001b[0m\u001b[0;34m.\u001b[0m\u001b[0mscatter\u001b[0m\u001b[0;34m(\u001b[0m\u001b[0minputs\u001b[0m\u001b[0;34m,\u001b[0m \u001b[0my_test\u001b[0m\u001b[0;34m,\u001b[0m \u001b[0mc\u001b[0m\u001b[0;34m=\u001b[0m\u001b[0;34m'b'\u001b[0m\u001b[0;34m)\u001b[0m\u001b[0;34m\u001b[0m\u001b[0m\n\u001b[0m\u001b[1;32m      4\u001b[0m \u001b[0mplt\u001b[0m\u001b[0;34m.\u001b[0m\u001b[0mscatter\u001b[0m\u001b[0;34m(\u001b[0m\u001b[0minputs\u001b[0m\u001b[0;34m,\u001b[0m \u001b[0mresults\u001b[0m\u001b[0;34m,\u001b[0m \u001b[0mc\u001b[0m\u001b[0;34m=\u001b[0m\u001b[0;34m'r'\u001b[0m\u001b[0;34m)\u001b[0m\u001b[0;34m\u001b[0m\u001b[0m\n\u001b[1;32m      5\u001b[0m \u001b[0mplt\u001b[0m\u001b[0;34m.\u001b[0m\u001b[0mshow\u001b[0m\u001b[0;34m(\u001b[0m\u001b[0;34m)\u001b[0m\u001b[0;34m\u001b[0m\u001b[0m\n",
      "\u001b[0;31mNameError\u001b[0m: name 'inputs' is not defined"
     ]
    }
   ],
   "source": [
    "import matplotlib.pyplot as plt\n",
    "\n",
    "plt.scatter(y_test, c='b')\n",
    "plt.scatter(inputs, results, c='r')\n",
    "plt.show()\n",
    "\n",
    "print('Current loss: %1.6f' % loss(model(inputs), outputs).numpy())"
   ]
  },
  {
   "cell_type": "code",
   "execution_count": null,
   "metadata": {},
   "outputs": [],
   "source": []
  }
 ],
 "metadata": {
  "kernelspec": {
   "display_name": "Python 3",
   "language": "python",
   "name": "python3"
  },
  "language_info": {
   "codemirror_mode": {
    "name": "ipython",
    "version": 3
   },
   "file_extension": ".py",
   "mimetype": "text/x-python",
   "name": "python",
   "nbconvert_exporter": "python",
   "pygments_lexer": "ipython3",
   "version": "3.6.5"
  }
 },
 "nbformat": 4,
 "nbformat_minor": 2
}
