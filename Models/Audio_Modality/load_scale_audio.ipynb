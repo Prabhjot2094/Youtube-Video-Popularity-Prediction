{
 "cells": [
  {
   "cell_type": "code",
   "execution_count": 25,
   "metadata": {},
   "outputs": [],
   "source": [
    "import numpy as np\n",
    "import pandas as pd\n",
    "from sklearn import preprocessing"
   ]
  },
  {
   "cell_type": "code",
   "execution_count": 23,
   "metadata": {},
   "outputs": [],
   "source": [
    "# return data given a list of video ids\n",
    "# output data is the shape of (number of ids, num frames, num features)\n",
    "# in our case, num frames = 800 and num features = 13\n",
    "def get_data(id_list):\n",
    "    audio_data = pd.read_csv('./audio_data.csv').values\n",
    "    audio_ids = pd.read_json('./video_ids_balanced.json')\n",
    "    audio_ids = audio_ids.to_numpy().squeeze()\n",
    "    audio_ids = [aid[:-4] for aid in audio_ids]\n",
    "\n",
    "    id_dict = {aid:idx for idx, aid in enumerate(audio_ids)}\n",
    "    data = audio_data.reshape((len(audio_ids), 800, audio_data.shape[1]))\n",
    "    \n",
    "    id_idx = [id_dict[i] for i in id_list]\n",
    "    \n",
    "    output_data = data[id_idx,:,:]\n",
    "\n",
    "    return output_data\n"
   ]
  },
  {
   "cell_type": "code",
   "execution_count": 28,
   "metadata": {},
   "outputs": [],
   "source": [
    "def z_scale(train_data, test_data):\n",
    "    scaler = preprocessing.StandardScaler()\n",
    "    samples, frames, features = train_data.shape\n",
    "    \n",
    "    train_data = train_data.reshape((samples*frames, features))\n",
    "    train_data = scaler.fit_transform(train_data)\n",
    "    train_data = train_data.reshape((samples, frames, features))\n",
    "    \n",
    "    samples, frames, features = test_data.shape\n",
    "    test_data = test_data.reshape((samples*frames, features))\n",
    "    test_data = scaler.transform(test_data)\n",
    "    test_data = test_data.reshape((samples, frames, features))\n",
    "    \n",
    "    return train_data, test_data"
   ]
  },
  {
   "cell_type": "code",
   "execution_count": 29,
   "metadata": {},
   "outputs": [
    {
     "name": "stdout",
     "output_type": "stream",
     "text": [
      "23.546693801879893 35.399532318115234\n",
      "2.0812773147027377 3.137642206957323\n"
     ]
    }
   ],
   "source": [
    "train_ids = ['Lo0k0rhsOw8', '183l-qkr2_w', 'dXh1kBjtlVo', 'mikH_8ReOrg', 'Vk0Adc0PQXA',\n",
    "             'JTU4Un-eCMU', 'J61mDnxTYVg']\n",
    "test_ids = ['gCZzSUhZazc', 'bQ3tgn9JfKk', 'ddNNN80A_7Y']\n",
    "\n",
    "train_data = get_data(train_ids)\n",
    "test_data = get_data(test_ids)\n",
    "#print(train_data[0,0,0], test_data[0,0,0])\n",
    "\n",
    "scaled_train_data, scaled_test_data = z_scale(train_data, test_data)\n",
    "#print(scaled_train_data[0,0,0], scaled_test_data[0,0,0])"
   ]
  },
  {
   "cell_type": "code",
   "execution_count": null,
   "metadata": {},
   "outputs": [],
   "source": []
  }
 ],
 "metadata": {
  "kernelspec": {
   "display_name": "Python 3",
   "language": "python",
   "name": "python3"
  },
  "language_info": {
   "codemirror_mode": {
    "name": "ipython",
    "version": 3
   },
   "file_extension": ".py",
   "mimetype": "text/x-python",
   "name": "python",
   "nbconvert_exporter": "python",
   "pygments_lexer": "ipython3",
   "version": "3.7.6"
  }
 },
 "nbformat": 4,
 "nbformat_minor": 4
}
