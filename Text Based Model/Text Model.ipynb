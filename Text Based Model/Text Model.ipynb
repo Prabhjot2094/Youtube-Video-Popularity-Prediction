{
 "cells": [
  {
   "cell_type": "code",
   "execution_count": 72,
   "metadata": {},
   "outputs": [
    {
     "name": "stdout",
     "output_type": "stream",
     "text": [
      "Requirement already satisfied: pandas in /usr/local/lib/python3.7/site-packages (1.0.1)\n",
      "Requirement already satisfied: numpy>=1.13.3 in /usr/local/lib/python3.7/site-packages (from pandas) (1.18.1)\n",
      "Requirement already satisfied: python-dateutil>=2.6.1 in /usr/local/lib/python3.7/site-packages (from pandas) (2.7.2)\n",
      "Requirement already satisfied: pytz>=2017.2 in /usr/local/lib/python3.7/site-packages (from pandas) (2019.3)\n",
      "Requirement already satisfied: six>=1.5 in /usr/local/lib/python3.7/site-packages (from python-dateutil>=2.6.1->pandas) (1.14.0)\n",
      "Requirement already satisfied: numpy in /usr/local/lib/python3.7/site-packages (1.18.1)\n",
      "Requirement already satisfied: tensorflow in /usr/local/lib/python3.7/site-packages (2.1.0)\n",
      "Requirement already satisfied: google-pasta>=0.1.6 in /usr/local/lib/python3.7/site-packages (from tensorflow) (0.2.0)\n",
      "Requirement already satisfied: gast==0.2.2 in /usr/local/lib/python3.7/site-packages (from tensorflow) (0.2.2)\n",
      "Requirement already satisfied: absl-py>=0.7.0 in /usr/local/lib/python3.7/site-packages (from tensorflow) (0.9.0)\n",
      "Requirement already satisfied: tensorboard<2.2.0,>=2.1.0 in /usr/local/lib/python3.7/site-packages (from tensorflow) (2.1.1)\n",
      "Requirement already satisfied: wrapt>=1.11.1 in /Users/kldsouza/Library/Python/3.7/lib/python/site-packages (from tensorflow) (1.11.2)\n",
      "Requirement already satisfied: grpcio>=1.8.6 in /usr/local/lib/python3.7/site-packages (from tensorflow) (1.27.2)\n",
      "Requirement already satisfied: keras-preprocessing>=1.1.0 in /usr/local/lib/python3.7/site-packages (from tensorflow) (1.1.0)\n",
      "Requirement already satisfied: six>=1.12.0 in /usr/local/lib/python3.7/site-packages (from tensorflow) (1.14.0)\n",
      "Requirement already satisfied: numpy<2.0,>=1.16.0 in /usr/local/lib/python3.7/site-packages (from tensorflow) (1.18.1)\n",
      "Requirement already satisfied: protobuf>=3.8.0 in /usr/local/lib/python3.7/site-packages (from tensorflow) (3.11.3)\n",
      "Requirement already satisfied: opt-einsum>=2.3.2 in /usr/local/lib/python3.7/site-packages (from tensorflow) (3.2.0)\n",
      "Requirement already satisfied: tensorflow-estimator<2.2.0,>=2.1.0rc0 in /usr/local/lib/python3.7/site-packages (from tensorflow) (2.1.0)\n",
      "Requirement already satisfied: termcolor>=1.1.0 in /usr/local/lib/python3.7/site-packages (from tensorflow) (1.1.0)\n",
      "Requirement already satisfied: wheel>=0.26; python_version >= \"3\" in /usr/local/lib/python3.7/site-packages (from tensorflow) (0.33.6)\n",
      "Requirement already satisfied: scipy==1.4.1; python_version >= \"3\" in /usr/local/lib/python3.7/site-packages (from tensorflow) (1.4.1)\n",
      "Requirement already satisfied: astor>=0.6.0 in /usr/local/lib/python3.7/site-packages (from tensorflow) (0.8.1)\n",
      "Requirement already satisfied: keras-applications>=1.0.8 in /usr/local/lib/python3.7/site-packages (from tensorflow) (1.0.8)\n",
      "Requirement already satisfied: google-auth-oauthlib<0.5,>=0.4.1 in /usr/local/lib/python3.7/site-packages (from tensorboard<2.2.0,>=2.1.0->tensorflow) (0.4.1)\n",
      "Requirement already satisfied: setuptools>=41.0.0 in /usr/local/lib/python3.7/site-packages (from tensorboard<2.2.0,>=2.1.0->tensorflow) (42.0.2)\n",
      "Requirement already satisfied: markdown>=2.6.8 in /usr/local/lib/python3.7/site-packages (from tensorboard<2.2.0,>=2.1.0->tensorflow) (3.2.1)\n",
      "Requirement already satisfied: werkzeug>=0.11.15 in /usr/local/lib/python3.7/site-packages (from tensorboard<2.2.0,>=2.1.0->tensorflow) (1.0.0)\n",
      "Requirement already satisfied: google-auth<2,>=1.6.3 in /usr/local/lib/python3.7/site-packages (from tensorboard<2.2.0,>=2.1.0->tensorflow) (1.11.3)\n",
      "Requirement already satisfied: requests<3,>=2.21.0 in /usr/local/lib/python3.7/site-packages (from tensorboard<2.2.0,>=2.1.0->tensorflow) (2.23.0)\n",
      "Requirement already satisfied: h5py in /usr/local/lib/python3.7/site-packages (from keras-applications>=1.0.8->tensorflow) (2.10.0)\n",
      "Requirement already satisfied: requests-oauthlib>=0.7.0 in /usr/local/lib/python3.7/site-packages (from google-auth-oauthlib<0.5,>=0.4.1->tensorboard<2.2.0,>=2.1.0->tensorflow) (1.3.0)\n",
      "Requirement already satisfied: rsa<4.1,>=3.1.4 in /usr/local/lib/python3.7/site-packages (from google-auth<2,>=1.6.3->tensorboard<2.2.0,>=2.1.0->tensorflow) (3.4.2)\n",
      "Requirement already satisfied: pyasn1-modules>=0.2.1 in /usr/local/lib/python3.7/site-packages (from google-auth<2,>=1.6.3->tensorboard<2.2.0,>=2.1.0->tensorflow) (0.2.8)\n",
      "Requirement already satisfied: cachetools<5.0,>=2.0.0 in /usr/local/lib/python3.7/site-packages (from google-auth<2,>=1.6.3->tensorboard<2.2.0,>=2.1.0->tensorflow) (4.0.0)\n",
      "Requirement already satisfied: urllib3!=1.25.0,!=1.25.1,<1.26,>=1.21.1 in /usr/local/lib/python3.7/site-packages (from requests<3,>=2.21.0->tensorboard<2.2.0,>=2.1.0->tensorflow) (1.22)\n",
      "Requirement already satisfied: certifi>=2017.4.17 in /usr/local/lib/python3.7/site-packages (from requests<3,>=2.21.0->tensorboard<2.2.0,>=2.1.0->tensorflow) (2019.11.28)\n",
      "Requirement already satisfied: idna<3,>=2.5 in /usr/local/lib/python3.7/site-packages (from requests<3,>=2.21.0->tensorboard<2.2.0,>=2.1.0->tensorflow) (2.9)\n",
      "Requirement already satisfied: chardet<4,>=3.0.2 in /usr/local/lib/python3.7/site-packages (from requests<3,>=2.21.0->tensorboard<2.2.0,>=2.1.0->tensorflow) (3.0.4)\n",
      "Requirement already satisfied: oauthlib>=3.0.0 in /usr/local/lib/python3.7/site-packages (from requests-oauthlib>=0.7.0->google-auth-oauthlib<0.5,>=0.4.1->tensorboard<2.2.0,>=2.1.0->tensorflow) (3.1.0)\n",
      "Requirement already satisfied: pyasn1>=0.1.3 in /usr/local/lib/python3.7/site-packages (from rsa<4.1,>=3.1.4->google-auth<2,>=1.6.3->tensorboard<2.2.0,>=2.1.0->tensorflow) (0.4.8)\n",
      "Requirement already satisfied: scikit-learn in /usr/local/lib/python3.7/site-packages (0.22.2.post1)\n",
      "Requirement already satisfied: joblib>=0.11 in /usr/local/lib/python3.7/site-packages (from scikit-learn) (0.14.1)\n",
      "Requirement already satisfied: numpy>=1.11.0 in /usr/local/lib/python3.7/site-packages (from scikit-learn) (1.18.1)\n",
      "Requirement already satisfied: scipy>=0.17.0 in /usr/local/lib/python3.7/site-packages (from scikit-learn) (1.4.1)\n"
     ]
    }
   ],
   "source": [
    "!pip install pandas\n",
    "!pip install numpy\n",
    "!pip install tensorflow"
   ]
  },
  {
   "cell_type": "code",
   "execution_count": 110,
   "metadata": {},
   "outputs": [],
   "source": [
    "import pandas as pd\n",
    "import os\n",
    "import json\n",
    "import numpy as np\n",
    "import tensorflow as tf\n",
    "from tensorflow.keras import Model\n",
    "from tensorflow.keras.preprocessing.text import Tokenizer\n",
    "from tensorflow.keras.preprocessing.sequence import pad_sequences\n",
    "from tensorflow.keras.layers import Embedding, Input, Conv1D, MaxPooling1D, Flatten, Dense"
   ]
  },
  {
   "cell_type": "code",
   "execution_count": 82,
   "metadata": {},
   "outputs": [
    {
     "name": "stdout",
     "output_type": "stream",
     "text": [
      "./processed_video/audio_xCgk9nvuCxk_txt failed processing\n",
      "./processed_video/audio_Q_ouhkdo-ko_txt failed processing\n",
      "\n",
      "Shape of raw_inputs:  (3389,)\n",
      "Shape of labels:  (3389,)\n",
      "Max Words:  172\n",
      "Max Frames:  186\n",
      "Max Sequence Lenghth:  3453\n"
     ]
    }
   ],
   "source": [
    "# Read all the data\n",
    "labels = []\n",
    "raw_inputs = []\n",
    "df = pd.read_csv('./raw_data.csv')\n",
    "max_frames = 0\n",
    "max_words = 0\n",
    "max_sequence_length = 0\n",
    "\n",
    "for index, row in df.iterrows():\n",
    "    path = os.path.join('./processed_video', 'audio_' + row['video_id'] + '_txt')\n",
    "    \n",
    "    if os.path.isfile(path):\n",
    "        with open(path, 'r') as f:\n",
    "            try:\n",
    "                raw_inputs_video = []\n",
    "                sequence_length = 0\n",
    "                file_data = json.load(f)\n",
    "                num_frames = len(file_data)\n",
    "                \n",
    "                if num_frames > max_frames:\n",
    "                    max_frames = num_frames\n",
    "\n",
    "                for i in range(num_frames):\n",
    "                    line_data = json.loads(file_data[i])\n",
    "\n",
    "                    if 'DisplayText' in line_data.keys():\n",
    "                        sentence = line_data['DisplayText']\n",
    "                        num_words = len(sentence.split())\n",
    "                        sequence_length = sequence_length + num_words\n",
    "\n",
    "                        if num_words > max_words:\n",
    "                            max_words = num_words\n",
    "                        raw_inputs_video.append(sentence)\n",
    "\n",
    "                    del line_data\n",
    "                \n",
    "                raw_inputs.append(raw_inputs_video)\n",
    "                labels.append((row['video_likeCount'] - row['video_dislikeCount'])/row['video_viewCount'])\n",
    "                \n",
    "                if sequence_length > max_sequence_length:\n",
    "                    max_sequence_length = sequence_length\n",
    "\n",
    "                del raw_inputs_video, file_data, sequence_length\n",
    "            except ValueError:\n",
    "                print(path + ' failed processing')\n",
    "\n",
    "raw_inputs = np.array(raw_inputs)\n",
    "labels = np.array(labels)\n",
    "print()\n",
    "print('Shape of raw_inputs: ', raw_inputs.shape)\n",
    "print('Shape of labels: ', labels.shape)\n",
    "print('Max Words: ', max_words)\n",
    "print('Max Frames: ', max_frames)\n",
    "print('Max Sequence Lenghth: ', max_sequence_length)\n",
    "np.save('./text.npy', raw_inputs)"
   ]
  },
  {
   "cell_type": "code",
   "execution_count": 95,
   "metadata": {},
   "outputs": [],
   "source": [
    "# Prepare data for cnn lstm by concatenating frames, normalizing labels and defining constants\n",
    "text_inputs = [''.join(row) for row in raw_inputs]\n",
    "min_label = np.min(labels)\n",
    "max_label = np.max(labels)\n",
    "scaled_labels = (labels - min_label)/(max_label - min_label)\n",
    "MAX_NB_WORDS = 20000\n",
    "MAX_SEQUENCE_LENGTH = max_sequence_length\n",
    "VALIDATION_SPLIT = 0.3\n",
    "GLOVE_DIR = './glove.twitter.27B'\n",
    "EMBEDDING_DIM = 200"
   ]
  },
  {
   "cell_type": "code",
   "execution_count": 140,
   "metadata": {},
   "outputs": [
    {
     "name": "stdout",
     "output_type": "stream",
     "text": [
      "Found 38587 unique tokens.\n",
      "Shape of data tensor: (3389, 3453)\n",
      "Shape of label tensor: (3389,)\n",
      "Shape of training tensor: (2373, 3453)\n",
      "Shape of training labels: (2373,)\n",
      "Shape of testing tensor: (1016, 3453)\n",
      "Shape of testing labels: (1016,)\n"
     ]
    }
   ],
   "source": [
    "tokenizer = Tokenizer(num_words=MAX_NB_WORDS)\n",
    "tokenizer.fit_on_texts(text_inputs)\n",
    "sequences = tokenizer.texts_to_sequences(text_inputs)\n",
    "\n",
    "word_index = tokenizer.word_index\n",
    "print('Found %s unique tokens.' % len(word_index))\n",
    "\n",
    "data = pad_sequences(sequences, maxlen=MAX_SEQUENCE_LENGTH)\n",
    "\n",
    "print('Shape of data tensor:', data.shape)\n",
    "print('Shape of label tensor:', scaled_labels.shape)\n",
    "\n",
    "# split the data into a training set and a validation set\n",
    "indices = np.arange(data.shape[0])\n",
    "np.random.shuffle(indices)\n",
    "data = data[indices]\n",
    "labels = scaled_labels[indices]\n",
    "nb_validation_samples = int(VALIDATION_SPLIT * data.shape[0])\n",
    "\n",
    "x_train = data[:-nb_validation_samples]\n",
    "y_train = labels[:-nb_validation_samples]\n",
    "x_val = data[-nb_validation_samples:]\n",
    "y_val = labels[-nb_validation_samples:]\n",
    "print('Shape of training tensor:', x_train.shape)\n",
    "print('Shape of training labels:', y_train.shape)\n",
    "print('Shape of testing tensor:', x_val.shape)\n",
    "print('Shape of testing labels:', y_val.shape)"
   ]
  },
  {
   "cell_type": "code",
   "execution_count": 141,
   "metadata": {},
   "outputs": [
    {
     "name": "stdout",
     "output_type": "stream",
     "text": [
      "Found 1193514 word vectors.\n"
     ]
    }
   ],
   "source": [
    "embeddings_index = {}\n",
    "f = open(os.path.join(GLOVE_DIR, 'glove.twitter.27B.200d.txt'))\n",
    "for line in f:\n",
    "    values = line.split()\n",
    "    word = values[0]\n",
    "    coefs = np.asarray(values[1:], dtype='float32')\n",
    "    embeddings_index[word] = coefs\n",
    "f.close()\n",
    "\n",
    "print('Found %s word vectors.' % len(embeddings_index))"
   ]
  },
  {
   "cell_type": "code",
   "execution_count": 142,
   "metadata": {},
   "outputs": [],
   "source": [
    "embedding_matrix = np.zeros((len(word_index) + 1, EMBEDDING_DIM))\n",
    "for word, i in word_index.items():\n",
    "    embedding_vector = embeddings_index.get(word)\n",
    "    if embedding_vector is not None:\n",
    "        # words not found in embedding index will be all-zeros.\n",
    "        embedding_matrix[i] = embedding_vector"
   ]
  },
  {
   "cell_type": "code",
   "execution_count": 143,
   "metadata": {},
   "outputs": [],
   "source": [
    "embedding_layer = Embedding(len(word_index) + 1,\n",
    "                            EMBEDDING_DIM,\n",
    "                            weights=[embedding_matrix],\n",
    "                            input_length=MAX_SEQUENCE_LENGTH,\n",
    "                            trainable=False)"
   ]
  },
  {
   "cell_type": "code",
   "execution_count": 144,
   "metadata": {},
   "outputs": [
    {
     "name": "stdout",
     "output_type": "stream",
     "text": [
      "Model: \"model_4\"\n",
      "_________________________________________________________________\n",
      "Layer (type)                 Output Shape              Param #   \n",
      "=================================================================\n",
      "input_9 (InputLayer)         [(None, 3453)]            0         \n",
      "_________________________________________________________________\n",
      "embedding_1 (Embedding)      (None, 3453, 200)         7717600   \n",
      "_________________________________________________________________\n",
      "conv1d_21 (Conv1D)           (None, 3449, 128)         128128    \n",
      "_________________________________________________________________\n",
      "max_pooling1d_21 (MaxPooling (None, 689, 128)          0         \n",
      "_________________________________________________________________\n",
      "conv1d_22 (Conv1D)           (None, 685, 128)          82048     \n",
      "_________________________________________________________________\n",
      "max_pooling1d_22 (MaxPooling (None, 137, 128)          0         \n",
      "_________________________________________________________________\n",
      "conv1d_23 (Conv1D)           (None, 133, 128)          82048     \n",
      "_________________________________________________________________\n",
      "max_pooling1d_23 (MaxPooling (None, 3, 128)            0         \n",
      "_________________________________________________________________\n",
      "flatten_6 (Flatten)          (None, 384)               0         \n",
      "_________________________________________________________________\n",
      "dense_10 (Dense)             (None, 128)               49280     \n",
      "_________________________________________________________________\n",
      "dense_11 (Dense)             (None, 1)                 129       \n",
      "=================================================================\n",
      "Total params: 8,059,233\n",
      "Trainable params: 341,633\n",
      "Non-trainable params: 7,717,600\n",
      "_________________________________________________________________\n",
      "None\n",
      "Train on 2373 samples, validate on 1016 samples\n",
      "Epoch 1/10\n",
      "2373/2373 [==============================] - 60s 25ms/sample - loss: 0.0699 - root_mean_squared_error: 0.2643 - val_loss: 0.0095 - val_root_mean_squared_error: 0.0972\n",
      "Epoch 2/10\n",
      "2373/2373 [==============================] - 83s 35ms/sample - loss: 0.0063 - root_mean_squared_error: 0.0795 - val_loss: 0.0056 - val_root_mean_squared_error: 0.0747\n",
      "Epoch 3/10\n",
      "2373/2373 [==============================] - 57s 24ms/sample - loss: 0.0049 - root_mean_squared_error: 0.0697 - val_loss: 0.0049 - val_root_mean_squared_error: 0.0701\n",
      "Epoch 4/10\n",
      "2373/2373 [==============================] - 53s 22ms/sample - loss: 0.0046 - root_mean_squared_error: 0.0675 - val_loss: 0.0049 - val_root_mean_squared_error: 0.0699\n",
      "Epoch 5/10\n",
      "2373/2373 [==============================] - 47s 20ms/sample - loss: 0.0044 - root_mean_squared_error: 0.0665 - val_loss: 0.0049 - val_root_mean_squared_error: 0.0699\n",
      "Epoch 6/10\n",
      "2373/2373 [==============================] - 52s 22ms/sample - loss: 0.0043 - root_mean_squared_error: 0.0652 - val_loss: 0.0049 - val_root_mean_squared_error: 0.0699\n",
      "Epoch 7/10\n",
      "2373/2373 [==============================] - 49s 21ms/sample - loss: 0.0040 - root_mean_squared_error: 0.0635 - val_loss: 0.0049 - val_root_mean_squared_error: 0.0698\n",
      "Epoch 8/10\n",
      "2373/2373 [==============================] - 49s 21ms/sample - loss: 0.0039 - root_mean_squared_error: 0.0622 - val_loss: 0.0049 - val_root_mean_squared_error: 0.0701\n",
      "Epoch 9/10\n",
      "2373/2373 [==============================] - 48s 20ms/sample - loss: 0.0036 - root_mean_squared_error: 0.0599 - val_loss: 0.0049 - val_root_mean_squared_error: 0.0703\n",
      "Epoch 10/10\n",
      "2373/2373 [==============================] - 50s 21ms/sample - loss: 0.0034 - root_mean_squared_error: 0.0580 - val_loss: 0.0050 - val_root_mean_squared_error: 0.0710\n"
     ]
    },
    {
     "data": {
      "text/plain": [
       "<tensorflow.python.keras.callbacks.History at 0x173e67450>"
      ]
     },
     "execution_count": 144,
     "metadata": {},
     "output_type": "execute_result"
    }
   ],
   "source": [
    "sequence_input = Input(shape=(MAX_SEQUENCE_LENGTH,), dtype='int32')\n",
    "embedded_sequences = embedding_layer(sequence_input)\n",
    "x = Conv1D(128, 5, activation='relu')(embedded_sequences)\n",
    "x = MaxPooling1D(5)(x)\n",
    "x = Conv1D(128, 5, activation='relu')(x)\n",
    "x = MaxPooling1D(5)(x)\n",
    "x = Conv1D(128, 5, activation='relu')(x)\n",
    "x = MaxPooling1D(35)(x)  # global max pooling\n",
    "x = Flatten()(x)\n",
    "x = Dense(128, activation='relu')(x)\n",
    "preds = Dense(1, activation='linear')(x)\n",
    "\n",
    "model = Model(sequence_input, preds)\n",
    "model.compile(loss=tf.keras.losses.MeanSquaredError(),\n",
    "              optimizer=tf.keras.optimizers.Adam(),\n",
    "              metrics=[tf.keras.metrics.RootMeanSquaredError()])\n",
    "\n",
    "print(model.summary())\n",
    "\n",
    "# happy learning!\n",
    "model.fit(x_train, y_train, validation_data=(x_val, y_val),\n",
    "          epochs=10, batch_size=128)"
   ]
  },
  {
   "cell_type": "code",
   "execution_count": 145,
   "metadata": {},
   "outputs": [
    {
     "name": "stdout",
     "output_type": "stream",
     "text": [
      "Loss on validation set is 0.0049010166\n"
     ]
    }
   ],
   "source": [
    "predictions = model.predict(x_val)\n",
    "mse = tf.keras.losses.MeanSquaredError()\n",
    "loss = mse(y_val, predictions)\n",
    "print('Loss on validation set is %s' % loss.numpy())"
   ]
  },
  {
   "cell_type": "code",
   "execution_count": 158,
   "metadata": {},
   "outputs": [
    {
     "name": "stdout",
     "output_type": "stream",
     "text": [
      "[0.2284666]\n",
      "0.6055853842722426\n"
     ]
    }
   ],
   "source": [
    "print(predictions[370])\n",
    "print(y_val[370])"
   ]
  },
  {
   "cell_type": "code",
   "execution_count": 159,
   "metadata": {},
   "outputs": [
    {
     "name": "stdout",
     "output_type": "stream",
     "text": [
      "(array([ 104,  491,  503,  598,  953, 1303, 1322, 1898, 2098, 2165, 2354]),)\n"
     ]
    }
   ],
   "source": [
    "print(np.where(y_train > 0.5))"
   ]
  },
  {
   "cell_type": "code",
   "execution_count": null,
   "metadata": {},
   "outputs": [],
   "source": []
  }
 ],
 "metadata": {
  "kernelspec": {
   "display_name": "Python 3",
   "language": "python",
   "name": "python3"
  },
  "language_info": {
   "codemirror_mode": {
    "name": "ipython",
    "version": 3
   },
   "file_extension": ".py",
   "mimetype": "text/x-python",
   "name": "python",
   "nbconvert_exporter": "python",
   "pygments_lexer": "ipython3",
   "version": "3.7.6"
  }
 },
 "nbformat": 4,
 "nbformat_minor": 4
}
