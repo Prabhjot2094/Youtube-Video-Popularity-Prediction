{
 "cells": [
  {
   "cell_type": "markdown",
   "metadata": {},
   "source": [
    "# Load the features and initialize the constants"
   ]
  },
  {
   "cell_type": "code",
   "execution_count": 3,
   "metadata": {},
   "outputs": [],
   "source": [
    "import os\n",
    "import json\n",
    "import numpy as np\n",
    "import pandas as pd\n",
    "from collections import defaultdict\n",
    "import matplotlib.pyplot as plt\n",
    "\n",
    "import tensorflow as tf\n",
    "from sklearn.model_selection import train_test_split"
   ]
  },
  {
   "cell_type": "code",
   "execution_count": 4,
   "metadata": {},
   "outputs": [
    {
     "ename": "FileNotFoundError",
     "evalue": "[Errno 2] No such file or directory: '../../openface_feature_names.json'",
     "output_type": "error",
     "traceback": [
      "\u001b[0;31m---------------------------------------------------------------------------\u001b[0m",
      "\u001b[0;31mFileNotFoundError\u001b[0m                         Traceback (most recent call last)",
      "\u001b[0;32m<ipython-input-4-29c9cf59ef47>\u001b[0m in \u001b[0;36m<module>\u001b[0;34m\u001b[0m\n\u001b[1;32m      3\u001b[0m \u001b[0;31m# ---------------------------------------\u001b[0m\u001b[0;34m\u001b[0m\u001b[0;34m\u001b[0m\u001b[0m\n\u001b[1;32m      4\u001b[0m \u001b[0;34m\u001b[0m\u001b[0m\n\u001b[0;32m----> 5\u001b[0;31m \u001b[0mf\u001b[0m \u001b[0;34m=\u001b[0m \u001b[0mopen\u001b[0m\u001b[0;34m(\u001b[0m\u001b[0;34m\"../../openface_feature_names.json\"\u001b[0m\u001b[0;34m,\u001b[0m \u001b[0;34m\"r\"\u001b[0m\u001b[0;34m)\u001b[0m\u001b[0;34m\u001b[0m\u001b[0m\n\u001b[0m\u001b[1;32m      6\u001b[0m \u001b[0mall_features\u001b[0m \u001b[0;34m=\u001b[0m \u001b[0mjson\u001b[0m\u001b[0;34m.\u001b[0m\u001b[0mload\u001b[0m\u001b[0;34m(\u001b[0m\u001b[0mf\u001b[0m\u001b[0;34m)\u001b[0m\u001b[0;34m\u001b[0m\u001b[0m\n\u001b[1;32m      7\u001b[0m \u001b[0mf\u001b[0m\u001b[0;34m.\u001b[0m\u001b[0mclose\u001b[0m\u001b[0;34m(\u001b[0m\u001b[0;34m)\u001b[0m\u001b[0;34m\u001b[0m\u001b[0m\n",
      "\u001b[0;31mFileNotFoundError\u001b[0m: [Errno 2] No such file or directory: '../../openface_feature_names.json'"
     ]
    }
   ],
   "source": [
    "# ---------------------------------------\n",
    "# Read feature names\n",
    "# ---------------------------------------\n",
    "\n",
    "f = open(\"../../openface_feature_names.json\", \"r\")\n",
    "all_features = json.load(f)\n",
    "f.close()\n",
    "\n",
    "#Regex to link feature names to what they represent\n",
    "feature_regex = {\n",
    "    \"action_units\": ['AU'],\n",
    "    \"gaze\": ['gaze'],\n",
    "    \"shape\": ['p_'],\n",
    "    \"landmarks_2d\": [' x_', ' y_'],\n",
    "    \"landmarks_3d\": [' X_', ' Y_', ' Z_'],\n",
    "    \"eye_lmk_2d\": [\"lmk_x\", \"lmk_y\"],\n",
    "    \"eye_lmk_3d\": [\"lmk_X\", \"lmk_Y\", \"lmk_Z\"],\n",
    "    \"output\": [\"rating\"]\n",
    "}\n",
    "features = defaultdict(list)\n",
    "for feature, regexes in feature_regex.items():\n",
    "    for col in all_features:\n",
    "        for regex in regexes:\n",
    "            if regex in col:\n",
    "                features[feature].append(col)\n",
    "\n",
    "#Features to use for training\n",
    "training_features = ['action_units', 'shape', 'landmarks_2d', 'eye_lmk_2d']\n",
    "training_features = [ftr_name for feature in training_features for ftr_name in features[feature]]\n",
    "\n",
    "feature_indices = sorted([all_features.index(feature) for feature in training_features])"
   ]
  },
  {
   "cell_type": "code",
   "execution_count": null,
   "metadata": {},
   "outputs": [],
   "source": [
    "#Constants\n",
    "FEATURE_INDICES = feature_indices\n",
    "MAX_FRAMES_PER_VIDEO = 800 #Pad/Truncate data to maitain 800 frames\n",
    "FEATURE_COUNT = len(FEATURE_INDICES)\n",
    "print(\"Number of features used for training : \", FEATURE_COUNT)"
   ]
  },
  {
   "cell_type": "markdown",
   "metadata": {},
   "source": [
    "# Deep Learning"
   ]
  },
  {
   "cell_type": "code",
   "execution_count": null,
   "metadata": {},
   "outputs": [],
   "source": [
    "#Generator to load data in batches to avoid memory overflow\n",
    "\n",
    "#Features and labels can be processed inside this generator\n",
    "def gen(ftr_files):\n",
    "    ftr_files = [file.decode() for file in ftr_files]\n",
    "    for i, file in enumerate(ftr_files):\n",
    "        #Ignore hidden files such as '.dstore'\n",
    "        if '.npy' not in file:\n",
    "            continue\n",
    "        try: #If any issues with reading the current file or missing label, ignore the video\n",
    "            ftrs = np.load(f'visual_features/{file}')\n",
    "            ftrs = ftrs[:, FEATURE_INDICES]\n",
    "            v_id = file.split('.')[0]\n",
    "            label = np.load(f'visual_labels/{file}')\n",
    "        except:\n",
    "            continue\n",
    "        \n",
    "        #Pad 0 valued frames(at the end) if frame count for the video lower than MAX_FRAMES_PER_VIDEO\n",
    "        #Delete frames(from the front) if frame count grater than MAX_FRAMES_PER_VIDEO\n",
    "        ftrs = tf.keras.preprocessing.sequence.pad_sequences([ftrs], maxlen=MAX_FRAMES_PER_VIDEO, \n",
    "                                                             dtype='float64', padding='post', \n",
    "                                                             truncating='pre', value=0.0)\n",
    "        yield ftrs[0], label"
   ]
  },
  {
   "cell_type": "code",
   "execution_count": null,
   "metadata": {},
   "outputs": [],
   "source": [
    "#Generate an LSTM\n",
    "def generate_model(input_size, max_length):\n",
    "    model = tf.keras.Sequential()\n",
    "    \n",
    "    model.add(tf.keras.layers.InputLayer(input_shape = (input_size, max_length)))\n",
    "    \n",
    "    rnn_layer = tf.keras.layers.LSTM(units = 20, activation = 'sigmoid', dropout = 0, recurrent_dropout = 0, implementation = 1, return_sequences = False)\n",
    "    model.add(rnn_layer)\n",
    "    \n",
    "    dense_layer = tf.keras.layers.Dense(20)\n",
    "    model.add(dense_layer)\n",
    "    \n",
    "    dense_layer = tf.keras.layers.Dense(1)\n",
    "    model.add(dense_layer)\n",
    "    \n",
    "    model.compile(loss = 'mean_squared_error', optimizer = tf.keras.optimizers.Adam(learning_rate = 1e-2))\n",
    "    model.build()\n",
    "    model.summary()\n",
    "    return model"
   ]
  },
  {
   "cell_type": "code",
   "execution_count": null,
   "metadata": {},
   "outputs": [],
   "source": [
    "#Create the train and test datasets\n",
    "ftr_files = [file for file in os.listdir('visual_features/') if '.npy' in file]\n",
    "np.random.shuffle(ftr_files)\n",
    "\n",
    "#Keep x% of data as training\n",
    "file_count = len(ftr_files)\n",
    "train_size = 80 #In %age\n",
    "split_index = (file_count*80)//100\n",
    "\n",
    "train, test = ftr_files[:split_index], ftr_files[split_index:]\n",
    "\n",
    "#Training dataset\n",
    "dataset_train = tf.data.Dataset.from_generator(\n",
    "     gen, (tf.float64, tf.float64),\n",
    "     output_shapes=(tf.TensorShape((None, None)), tf.TensorShape(())), args=(train,))\n",
    "dataset_train_batched = dataset_train.batch(128, drop_remainder=True)\n",
    "dataset_train_batched_prefetched = dataset_train_batched.prefetch(1)\n",
    "\n",
    "#Test dataset\n",
    "dataset_test = tf.data.Dataset.from_generator(\n",
    "     gen, (tf.float64, tf.float64),\n",
    "     output_shapes=(tf.TensorShape((None, None)), tf.TensorShape(())), args=(test,))\n",
    "dataset_test_batched = dataset_test.batch(1)\n",
    "dataset_test_prefetched = dataset_test_batched.prefetch(1)"
   ]
  },
  {
   "cell_type": "code",
   "execution_count": null,
   "metadata": {},
   "outputs": [],
   "source": [
    "model = generate_model(MAX_FRAMES_PER_VIDEO, FEATURE_COUNT)"
   ]
  },
  {
   "cell_type": "code",
   "execution_count": null,
   "metadata": {},
   "outputs": [],
   "source": [
    "history = model.fit(dataset_train_batched_prefetched, epochs=100, validation_data=dataset_test_batched)#_prefetched)"
   ]
  },
  {
   "cell_type": "code",
   "execution_count": null,
   "metadata": {},
   "outputs": [],
   "source": [
    "plt.plot(history.history['loss'])"
   ]
  },
  {
   "cell_type": "code",
   "execution_count": null,
   "metadata": {},
   "outputs": [],
   "source": [
    "x_test = np.array([ele for batch in dataset_test_batched.as_numpy_iterator() for ele in batch[0]])\n",
    "y_test = np.array([ele for batch in dataset_test_batched.as_numpy_iterator() for ele in batch[1]])\n",
    "results = model.predict(x_test)\n",
    "results = results.reshape(-1)\n",
    "print(results.shape,y_test.shape)\n",
    "plt.scatter(results, y_test)"
   ]
  },
  {
   "cell_type": "code",
   "execution_count": null,
   "metadata": {},
   "outputs": [],
   "source": [
    "print(results, y_test)"
   ]
  },
  {
   "cell_type": "code",
   "execution_count": null,
   "metadata": {},
   "outputs": [],
   "source": [
    "tf.keras.losses.MSE(y_test, results)"
   ]
  },
  {
   "cell_type": "code",
   "execution_count": null,
   "metadata": {},
   "outputs": [],
   "source": [
    "tf.keras.utils.plot_model(model)"
   ]
  },
  {
   "cell_type": "code",
   "execution_count": null,
   "metadata": {},
   "outputs": [],
   "source": []
  }
 ],
 "metadata": {
  "kernelspec": {
   "display_name": "Python 3",
   "language": "python",
   "name": "python3"
  }
 },
 "nbformat": 4,
 "nbformat_minor": 2
}
