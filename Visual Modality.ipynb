{
 "cells": [
  {
   "cell_type": "markdown",
   "metadata": {},
   "source": [
    "# Load the features and initialize the constants"
   ]
  },
  {
   "cell_type": "code",
   "execution_count": 107,
   "metadata": {},
   "outputs": [],
   "source": [
    "import os\n",
    "import json\n",
    "import numpy as np\n",
    "import pandas as pd\n",
    "from collections import defaultdict\n",
    "import matplotlib.pyplot as plt\n",
    "\n",
    "import tensorflow as tf\n",
    "#from keras.utils.vis_utils import plot_model\n",
    "from sklearn.model_selection import train_test_split"
   ]
  },
  {
   "cell_type": "code",
   "execution_count": 93,
   "metadata": {},
   "outputs": [],
   "source": [
    "# ---------------------------------------\n",
    "# Read feature names\n",
    "# ---------------------------------------\n",
    "\n",
    "f = open(\"openface_feature_names.json\", \"r\")\n",
    "all_features = json.load(f)\n",
    "f.close()\n",
    "\n",
    "#Regex to link feature names to what they represent\n",
    "feature_regex = {\n",
    "    \"action_units\": ['AU'],\n",
    "    \"gaze\": ['gaze'],\n",
    "    \"shape\": ['p_'],\n",
    "    \"landmarks_2d\": [' x_', ' y_'],\n",
    "    \"landmarks_3d\": [' X_', ' Y_', ' Z_'],\n",
    "    \"eye_lmk_2d\": [\"lmk_x\", \"lmk_y\"],\n",
    "    \"eye_lmk_3d\": [\"lmk_X\", \"lmk_Y\", \"lmk_Z\"],\n",
    "    \"output\": [\"rating\"]\n",
    "}\n",
    "features = defaultdict(list)\n",
    "for feature, regexes in feature_regex.items():\n",
    "    for col in all_features:\n",
    "        for regex in regexes:\n",
    "            if regex in col:\n",
    "                features[feature].append(col)\n",
    "\n",
    "#Features to use for training\n",
    "training_features = ['action_units', 'shape', 'landmarks_2d', 'eye_lmk_2d']\n",
    "training_features = [ftr_name for feature in training_features for ftr_name in features[feature]]\n",
    "\n",
    "feature_indices = sorted([all_features.index(feature) for feature in training_features])"
   ]
  },
  {
   "cell_type": "code",
   "execution_count": 91,
   "metadata": {},
   "outputs": [
    {
     "name": "stdout",
     "output_type": "stream",
     "text": [
      "Number of features used for training :  323\n"
     ]
    }
   ],
   "source": [
    "#Constants\n",
    "FEATURE_INDICES = feature_indices\n",
    "MAX_FRAMES_PER_VIDEO = 800 #Pad/Truncate data to maitain 800 frames\n",
    "FEATURE_COUNT = len(FEATURE_INDICES)\n",
    "print(\"Number of features used for training : \", FEATURE_COUNT)"
   ]
  },
  {
   "cell_type": "markdown",
   "metadata": {},
   "source": [
    "# Deep Learning"
   ]
  },
  {
   "cell_type": "code",
   "execution_count": 82,
   "metadata": {},
   "outputs": [],
   "source": [
    "#Generator to load data in batches to avoid memory overflow\n",
    "\n",
    "#Features and labels can be processed inside this generator\n",
    "def gen(ftr_files):\n",
    "    ftr_files = [file.decode() for file in ftr_files]\n",
    "    for i, file in enumerate(ftr_files):\n",
    "        #Ignore hidden files such as '.dstore'\n",
    "        if '.npy' not in file:\n",
    "            continue\n",
    "        try: #If any issues with reading the current file or missing label, ignore the video\n",
    "            ftrs = np.load(f'visual_features/{file}')\n",
    "            ftrs = ftrs[:, FEATURE_INDICES]\n",
    "            v_id = file.split('.')[0]\n",
    "            label = np.load(f'visual_labels/{file}')\n",
    "        except:\n",
    "            continue\n",
    "        \n",
    "        #Pad 0 valued frames(at the end) if frame count for the video lower than MAX_FRAMES_PER_VIDEO\n",
    "        #Delete frames(from the front) if frame count grater than MAX_FRAMES_PER_VIDEO\n",
    "        ftrs = tf.keras.preprocessing.sequence.pad_sequences([ftrs], maxlen=MAX_FRAMES_PER_VIDEO, \n",
    "                                                             dtype='float64', padding='post', \n",
    "                                                             truncating='pre', value=0.0)\n",
    "        yield ftrs[0], label"
   ]
  },
  {
   "cell_type": "code",
   "execution_count": 94,
   "metadata": {},
   "outputs": [],
   "source": [
    "#Generate an LSTM\n",
    "def generate_model(input_size, max_length):\n",
    "    model = tf.keras.Sequential()\n",
    "    \n",
    "    model.add(tf.keras.layers.InputLayer(input_shape = (input_size, max_length)))\n",
    "    \n",
    "    rnn_layer = tf.keras.layers.LSTM(units = 20, activation = 'sigmoid', dropout = 0, recurrent_dropout = 0, implementation = 1, return_sequences = False)\n",
    "    model.add(rnn_layer)\n",
    "    \n",
    "    dense_layer = tf.keras.layers.Dense(20)\n",
    "    model.add(dense_layer)\n",
    "    \n",
    "    dense_layer = tf.keras.layers.Dense(1)\n",
    "    model.add(dense_layer)\n",
    "    \n",
    "    model.compile(loss = 'mean_squared_error', optimizer = tf.keras.optimizers.Adam(learning_rate = 1e-2))\n",
    "    model.build()\n",
    "    model.summary()\n",
    "    return model"
   ]
  },
  {
   "cell_type": "code",
   "execution_count": 95,
   "metadata": {},
   "outputs": [],
   "source": [
    "#Create the train and test datasets\n",
    "ftr_files = [file for file in os.listdir('visual_features/') if '.npy' in file]\n",
    "np.random.shuffle(ftr_files)\n",
    "\n",
    "#Keep x% of data as training\n",
    "file_count = len(ftr_files)\n",
    "train_size = 80 #In %age\n",
    "split_index = (file_count*80)//100\n",
    "\n",
    "train, test = ftr_files[:split_index], ftr_files[split_index:]\n",
    "\n",
    "#Training dataset\n",
    "dataset_train = tf.data.Dataset.from_generator(\n",
    "     gen, (tf.float64, tf.float64),\n",
    "     output_shapes=(tf.TensorShape((None, None)), tf.TensorShape(())), args=(train,))\n",
    "dataset_train_batched = dataset_train.batch(128, drop_remainder=True)\n",
    "dataset_train_batched_prefetched = dataset_train_batched.prefetch(1)\n",
    "\n",
    "#Test dataset\n",
    "dataset_test = tf.data.Dataset.from_generator(\n",
    "     gen, (tf.float64, tf.float64),\n",
    "     output_shapes=(tf.TensorShape((None, None)), tf.TensorShape(())), args=(test,))\n",
    "dataset_test_batched = dataset_test.batch(1)\n",
    "dataset_test_prefetched = dataset_test_batched.prefetch(1)"
   ]
  },
  {
   "cell_type": "code",
   "execution_count": 96,
   "metadata": {},
   "outputs": [
    {
     "name": "stdout",
     "output_type": "stream",
     "text": [
      "Model: \"sequential_11\"\n",
      "_________________________________________________________________\n",
      "Layer (type)                 Output Shape              Param #   \n",
      "=================================================================\n",
      "lstm_11 (LSTM)               (None, 20)                27520     \n",
      "_________________________________________________________________\n",
      "dense_22 (Dense)             (None, 20)                420       \n",
      "_________________________________________________________________\n",
      "dense_23 (Dense)             (None, 1)                 21        \n",
      "=================================================================\n",
      "Total params: 27,961\n",
      "Trainable params: 27,961\n",
      "Non-trainable params: 0\n",
      "_________________________________________________________________\n"
     ]
    }
   ],
   "source": [
    "model = generate_model(MAX_FRAMES_PER_VIDEO, FEATURE_COUNT)"
   ]
  },
  {
   "cell_type": "code",
   "execution_count": 78,
   "metadata": {},
   "outputs": [
    {
     "name": "stdout",
     "output_type": "stream",
     "text": [
      "Epoch 1/100\n",
      "14/14 [==============================] - 50s 4s/step - loss: 154.2523 - val_loss: 48.7091\n",
      "Epoch 2/100\n",
      "14/14 [==============================] - 52s 4s/step - loss: 34.5535 - val_loss: 39.9486\n",
      "Epoch 3/100\n",
      "14/14 [==============================] - 49s 3s/step - loss: 32.0946 - val_loss: 29.0385\n",
      "Epoch 4/100\n",
      "14/14 [==============================] - 46s 3s/step - loss: 28.9406 - val_loss: 28.9143\n",
      "Epoch 5/100\n",
      "14/14 [==============================] - 48s 3s/step - loss: 28.2227 - val_loss: 29.1197\n",
      "Epoch 6/100\n",
      "14/14 [==============================] - 51s 4s/step - loss: 28.1768 - val_loss: 28.8463\n",
      "Epoch 7/100\n",
      "14/14 [==============================] - 52s 4s/step - loss: 28.1276 - val_loss: 28.8877\n",
      "Epoch 8/100\n",
      "14/14 [==============================] - 52s 4s/step - loss: 28.1364 - val_loss: 28.8633\n",
      "Epoch 9/100\n",
      "14/14 [==============================] - 50s 4s/step - loss: 28.1281 - val_loss: 28.8653\n",
      "Epoch 10/100\n",
      "14/14 [==============================] - 49s 4s/step - loss: 28.1327 - val_loss: 28.8658\n",
      "Epoch 11/100\n",
      "14/14 [==============================] - 48s 3s/step - loss: 28.1330 - val_loss: 28.8636\n",
      "Epoch 12/100\n",
      "14/14 [==============================] - 52s 4s/step - loss: 28.1351 - val_loss: 28.8639\n",
      "Epoch 13/100\n",
      "14/14 [==============================] - 48s 3s/step - loss: 28.1364 - val_loss: 28.8628\n",
      "Epoch 14/100\n",
      "14/14 [==============================] - 48s 3s/step - loss: 28.1380 - val_loss: 28.8624\n",
      "Epoch 15/100\n",
      "14/14 [==============================] - 48s 3s/step - loss: 28.1395 - val_loss: 28.8617\n",
      "Epoch 16/100\n",
      "14/14 [==============================] - 48s 3s/step - loss: 28.1410 - val_loss: 28.8611\n",
      "Epoch 17/100\n",
      "14/14 [==============================] - 48s 3s/step - loss: 28.1423 - val_loss: 28.8606\n",
      "Epoch 18/100\n",
      "14/14 [==============================] - 49s 4s/step - loss: 28.1437 - val_loss: 28.8600\n",
      "Epoch 19/100\n",
      "14/14 [==============================] - 52s 4s/step - loss: 28.1451 - val_loss: 28.8595\n",
      "Epoch 20/100\n",
      "14/14 [==============================] - 50s 4s/step - loss: 28.1464 - val_loss: 28.8590\n",
      "Epoch 21/100\n",
      "14/14 [==============================] - 50s 4s/step - loss: 28.1477 - val_loss: 28.8585\n",
      "Epoch 22/100\n",
      "14/14 [==============================] - 50s 4s/step - loss: 28.1490 - val_loss: 28.8580\n",
      "Epoch 23/100\n",
      "14/14 [==============================] - 49s 3s/step - loss: 28.1503 - val_loss: 28.8576\n",
      "Epoch 24/100\n",
      "14/14 [==============================] - 52s 4s/step - loss: 28.1516 - val_loss: 28.8571\n",
      "Epoch 25/100\n",
      "14/14 [==============================] - 49s 4s/step - loss: 28.1528 - val_loss: 28.8567\n",
      "Epoch 26/100\n",
      "14/14 [==============================] - 51s 4s/step - loss: 28.1540 - val_loss: 28.8563\n",
      "Epoch 27/100\n",
      "14/14 [==============================] - 49s 3s/step - loss: 28.1552 - val_loss: 28.8559\n",
      "Epoch 28/100\n",
      "14/14 [==============================] - 50s 4s/step - loss: 28.1564 - val_loss: 28.8555\n",
      "Epoch 29/100\n",
      "14/14 [==============================] - 51s 4s/step - loss: 28.1576 - val_loss: 28.8551\n",
      "Epoch 30/100\n",
      "14/14 [==============================] - 53s 4s/step - loss: 28.1588 - val_loss: 28.8547\n",
      "Epoch 31/100\n",
      "14/14 [==============================] - 52s 4s/step - loss: 28.1599 - val_loss: 28.8544\n",
      "Epoch 32/100\n",
      "14/14 [==============================] - 50s 4s/step - loss: 28.1611 - val_loss: 28.8540\n",
      "Epoch 33/100\n",
      "14/14 [==============================] - 51s 4s/step - loss: 28.1622 - val_loss: 28.8537\n",
      "Epoch 34/100\n",
      "14/14 [==============================] - 54s 4s/step - loss: 28.1633 - val_loss: 28.8534\n",
      "Epoch 35/100\n",
      "14/14 [==============================] - 53s 4s/step - loss: 28.1644 - val_loss: 28.8563\n",
      "Epoch 36/100\n",
      "14/14 [==============================] - 53s 4s/step - loss: 28.4398 - val_loss: 28.9241\n",
      "Epoch 37/100\n",
      "14/14 [==============================] - 52s 4s/step - loss: 28.1904 - val_loss: 28.9040\n",
      "Epoch 38/100\n",
      "14/14 [==============================] - 53s 4s/step - loss: 28.1513 - val_loss: 28.8849\n",
      "Epoch 39/100\n",
      "14/14 [==============================] - 54s 4s/step - loss: 28.1677 - val_loss: 28.8775\n",
      "Epoch 40/100\n",
      "14/14 [==============================] - 54s 4s/step - loss: 28.1608 - val_loss: 28.8831\n",
      "Epoch 41/100\n",
      "14/14 [==============================] - 56s 4s/step - loss: 28.1611 - val_loss: 28.8808\n",
      "Epoch 42/100\n",
      "14/14 [==============================] - 52s 4s/step - loss: 28.1640 - val_loss: 28.8800\n",
      "Epoch 43/100\n",
      "14/14 [==============================] - 52s 4s/step - loss: 28.1641 - val_loss: 28.8804\n",
      "Epoch 44/100\n",
      "14/14 [==============================] - 53s 4s/step - loss: 28.1651 - val_loss: 28.8800\n",
      "Epoch 45/100\n",
      "14/14 [==============================] - 54s 4s/step - loss: 28.1663 - val_loss: 28.8797\n",
      "Epoch 46/100\n",
      "14/14 [==============================] - 54s 4s/step - loss: 28.1672 - val_loss: 28.8795\n",
      "Epoch 47/100\n",
      "14/14 [==============================] - 55s 4s/step - loss: 28.1682 - val_loss: 28.8792\n",
      "Epoch 48/100\n",
      "14/14 [==============================] - 52s 4s/step - loss: 28.1692 - val_loss: 28.8790\n",
      "Epoch 49/100\n",
      "14/14 [==============================] - 53s 4s/step - loss: 28.1702 - val_loss: 28.8788\n",
      "Epoch 50/100\n",
      "14/14 [==============================] - 53s 4s/step - loss: 28.1712 - val_loss: 28.8786\n",
      "Epoch 51/100\n",
      "14/14 [==============================] - 53s 4s/step - loss: 28.1721 - val_loss: 28.8784\n",
      "Epoch 52/100\n",
      "14/14 [==============================] - 54s 4s/step - loss: 28.1731 - val_loss: 28.8782\n",
      "Epoch 53/100\n",
      "14/14 [==============================] - 55s 4s/step - loss: 28.1740 - val_loss: 28.8780\n",
      "Epoch 54/100\n",
      "14/14 [==============================] - 59s 4s/step - loss: 28.1750 - val_loss: 28.8779\n",
      "Epoch 55/100\n",
      "14/14 [==============================] - 54s 4s/step - loss: 28.1759 - val_loss: 28.8777\n",
      "Epoch 56/100\n",
      "14/14 [==============================] - 48s 3s/step - loss: 28.1768 - val_loss: 28.8775\n",
      "Epoch 57/100\n",
      "14/14 [==============================] - 48s 3s/step - loss: 28.1778 - val_loss: 28.8774\n",
      "Epoch 58/100\n",
      "14/14 [==============================] - 50s 4s/step - loss: 28.1787 - val_loss: 28.8772\n",
      "Epoch 59/100\n",
      "14/14 [==============================] - 51s 4s/step - loss: 28.1796 - val_loss: 28.8771\n",
      "Epoch 60/100\n",
      "14/14 [==============================] - 54s 4s/step - loss: 28.1805 - val_loss: 28.8769\n",
      "Epoch 61/100\n",
      "14/14 [==============================] - 51s 4s/step - loss: 28.1814 - val_loss: 28.8768\n",
      "Epoch 62/100\n",
      "14/14 [==============================] - 51s 4s/step - loss: 28.1822 - val_loss: 28.8767\n",
      "Epoch 63/100\n",
      "14/14 [==============================] - 55s 4s/step - loss: 28.1831 - val_loss: 28.8766\n",
      "Epoch 64/100\n",
      "14/14 [==============================] - 74s 5s/step - loss: 28.1840 - val_loss: 28.8765\n",
      "Epoch 65/100\n",
      "14/14 [==============================] - 76s 5s/step - loss: 28.1848 - val_loss: 28.8764\n",
      "Epoch 66/100\n",
      "14/14 [==============================] - 63s 4s/step - loss: 28.1857 - val_loss: 28.8763\n",
      "Epoch 67/100\n",
      "14/14 [==============================] - 70s 5s/step - loss: 28.1865 - val_loss: 28.8762\n",
      "Epoch 68/100\n",
      "14/14 [==============================] - 71s 5s/step - loss: 28.1874 - val_loss: 28.8761\n",
      "Epoch 69/100\n",
      "14/14 [==============================] - 72s 5s/step - loss: 28.1882 - val_loss: 28.8760\n",
      "Epoch 70/100\n",
      "14/14 [==============================] - 90s 6s/step - loss: 28.1890 - val_loss: 28.8760\n",
      "Epoch 71/100\n",
      "14/14 [==============================] - 76s 5s/step - loss: 28.1898 - val_loss: 28.8759\n",
      "Epoch 72/100\n",
      "14/14 [==============================] - 81s 6s/step - loss: 28.1906 - val_loss: 28.8758\n",
      "Epoch 73/100\n",
      "14/14 [==============================] - 59s 4s/step - loss: 28.1914 - val_loss: 28.8758\n",
      "Epoch 74/100\n",
      "14/14 [==============================] - 57s 4s/step - loss: 28.1922 - val_loss: 28.8757\n",
      "Epoch 75/100\n",
      "14/14 [==============================] - 56s 4s/step - loss: 28.1930 - val_loss: 28.8757\n",
      "Epoch 76/100\n",
      "14/14 [==============================] - 50s 4s/step - loss: 28.1938 - val_loss: 28.8756\n",
      "Epoch 77/100\n",
      "14/14 [==============================] - 54s 4s/step - loss: 28.1946 - val_loss: 28.8756\n",
      "Epoch 78/100\n",
      "14/14 [==============================] - 52s 4s/step - loss: 28.1953 - val_loss: 28.8756\n",
      "Epoch 79/100\n",
      "14/14 [==============================] - 53s 4s/step - loss: 28.1961 - val_loss: 28.8756\n",
      "Epoch 80/100\n",
      "14/14 [==============================] - 50s 4s/step - loss: 28.1968 - val_loss: 28.8755\n",
      "Epoch 81/100\n"
     ]
    },
    {
     "name": "stdout",
     "output_type": "stream",
     "text": [
      "14/14 [==============================] - 52s 4s/step - loss: 28.1976 - val_loss: 28.8755\n",
      "Epoch 82/100\n",
      "14/14 [==============================] - 51s 4s/step - loss: 28.1983 - val_loss: 28.8755\n",
      "Epoch 83/100\n",
      "14/14 [==============================] - 53s 4s/step - loss: 28.1990 - val_loss: 28.8755\n",
      "Epoch 84/100\n",
      "14/14 [==============================] - 51s 4s/step - loss: 28.1998 - val_loss: 28.8755\n",
      "Epoch 85/100\n",
      "14/14 [==============================] - 51s 4s/step - loss: 28.2005 - val_loss: 28.8755\n",
      "Epoch 86/100\n",
      "14/14 [==============================] - 49s 3s/step - loss: 28.2012 - val_loss: 28.8755\n",
      "Epoch 87/100\n",
      "14/14 [==============================] - 48s 3s/step - loss: 28.2019 - val_loss: 28.8755\n",
      "Epoch 88/100\n",
      "14/14 [==============================] - 54s 4s/step - loss: 28.2026 - val_loss: 28.8755\n",
      "Epoch 89/100\n",
      "14/14 [==============================] - 50s 4s/step - loss: 28.2033 - val_loss: 28.8755\n",
      "Epoch 90/100\n",
      "14/14 [==============================] - 49s 4s/step - loss: 28.2039 - val_loss: 28.8755\n",
      "Epoch 91/100\n",
      "14/14 [==============================] - 49s 3s/step - loss: 28.2046 - val_loss: 28.8756\n",
      "Epoch 92/100\n",
      "14/14 [==============================] - 48s 3s/step - loss: 28.2053 - val_loss: 28.8756\n",
      "Epoch 93/100\n",
      "14/14 [==============================] - 48s 3s/step - loss: 28.2059 - val_loss: 28.8756\n",
      "Epoch 94/100\n",
      "14/14 [==============================] - 49s 3s/step - loss: 28.2066 - val_loss: 28.8756\n",
      "Epoch 95/100\n",
      "14/14 [==============================] - 50s 4s/step - loss: 28.2072 - val_loss: 28.8757\n",
      "Epoch 96/100\n",
      "14/14 [==============================] - 51s 4s/step - loss: 28.2079 - val_loss: 28.8757\n",
      "Epoch 97/100\n",
      "14/14 [==============================] - 48s 3s/step - loss: 28.2085 - val_loss: 28.8757\n",
      "Epoch 98/100\n",
      "14/14 [==============================] - 48s 3s/step - loss: 28.2091 - val_loss: 28.8758\n",
      "Epoch 99/100\n",
      "14/14 [==============================] - 52s 4s/step - loss: 28.2097 - val_loss: 28.8758\n",
      "Epoch 100/100\n",
      "14/14 [==============================] - 49s 3s/step - loss: 28.2103 - val_loss: 28.8758\n"
     ]
    }
   ],
   "source": [
    "history = model.fit(dataset_train_batched_prefetched, epochs=100, validation_data=dataset_test_batched)#_prefetched)"
   ]
  },
  {
   "cell_type": "code",
   "execution_count": 98,
   "metadata": {},
   "outputs": [
    {
     "data": {
      "text/plain": [
       "[<matplotlib.lines.Line2D at 0x140d825f8>]"
      ]
     },
     "execution_count": 98,
     "metadata": {},
     "output_type": "execute_result"
    },
    {
     "data": {
      "image/png": "[encoded data removed]",
      "text/plain": [
       "<Figure size 432x288 with 1 Axes>"
      ]
     },
     "metadata": {
      "needs_background": "light"
     },
     "output_type": "display_data"
    }
   ],
   "source": [
    "plt.plot(history.history['loss'])"
   ]
  },
  {
   "cell_type": "code",
   "execution_count": 76,
   "metadata": {},
   "outputs": [
    {
     "name": "stdout",
     "output_type": "stream",
     "text": [
      "(457,) (457,)\n"
     ]
    },
    {
     "data": {
      "text/plain": [
       "<matplotlib.collections.PathCollection at 0x1420e4748>"
      ]
     },
     "execution_count": 76,
     "metadata": {},
     "output_type": "execute_result"
    },
    {
     "data": {
      "image/png": "[encoded data removed]",
      "text/plain": [
       "<Figure size 432x288 with 1 Axes>"
      ]
     },
     "metadata": {
      "needs_background": "light"
     },
     "output_type": "display_data"
    }
   ],
   "source": [
    "x_test = np.array([ele for batch in dataset_test_batched.as_numpy_iterator() for ele in batch[0]])\n",
    "y_test = np.array([ele for batch in dataset_test_batched.as_numpy_iterator() for ele in batch[1]])\n",
    "results = model.predict(x_test)\n",
    "results = results.reshape(-1)\n",
    "print(results.shape,y_test.shape)\n",
    "plt.scatter(results, y_test)"
   ]
  },
  {
   "cell_type": "code",
   "execution_count": 81,
   "metadata": {},
   "outputs": [
    {
     "name": "stdout",
     "output_type": "stream",
     "text": [
      "[17.562601 17.562601 17.191872 17.562601 17.562601 17.562601 16.626986\n",
      " 17.1574   17.562601 16.626986 17.562601 17.227453 17.178532 16.626986\n",
      " 17.227453 17.562601 16.626986 17.169424 17.562601 17.562601 17.204817\n",
      " 17.562601 17.164083 17.562601 17.208838 17.162666 17.562601 17.166983\n",
      " 17.562601 17.562601 17.16273  17.562601 17.169779 17.163225 17.562601\n",
      " 17.562601 17.562601 17.155544 17.562601 17.562601 17.562601 17.562601\n",
      " 17.562601 17.187971 16.626986 16.626986 17.171968 17.562601 17.16115\n",
      " 17.15199  17.184404 17.188963 17.165762 17.16369  17.562601 17.15232\n",
      " 17.562601 17.562601 17.16363  17.562601 17.562601 17.183458 17.180933\n",
      " 17.562601 17.562601 17.227453 17.562601 17.562601 16.626986 17.227453\n",
      " 17.186228 18.066092 17.562601 17.562601 17.562601 16.626986 17.562601\n",
      " 17.562601 16.626986 17.167887 17.562601 17.562601 17.163313 17.170986\n",
      " 17.206907 17.562601 17.562601 17.562601 16.626986 17.562601 17.166933\n",
      " 17.184433 17.164667 17.165201 17.562601 17.165178 17.174171 17.160416\n",
      " 17.18818  17.158728 17.562601 17.562601 17.18882  17.227453 17.227453\n",
      " 17.152946 17.562601 17.152391 17.562601 17.152372 16.626986 17.562601\n",
      " 17.227453 17.165228 17.176758 17.16989  17.562601 17.170122 17.562601\n",
      " 17.167566 17.165676 17.562601 17.562601 17.160555 17.165289 17.173918\n",
      " 17.168087 17.204903 17.562601 17.169954 17.562601 17.562601 16.626986\n",
      " 17.562601 17.179335 16.626986 17.206406 17.161568 17.562601 17.562601\n",
      " 16.626986 17.562601 17.172338 17.182295 17.189737 17.562601 17.227453\n",
      " 17.157085 17.562601 17.165335 17.171055 17.562601 17.562601 17.227453\n",
      " 18.455261 17.562601 17.562601 17.562601 17.158466 17.161211 17.155323\n",
      " 17.562601 17.562601 17.18615  17.227453 17.159466 17.176003 17.562597\n",
      " 17.167145 17.562601 17.562601 17.562601 17.183947 17.562601 16.626986\n",
      " 17.16473  16.626986 17.187777 17.224392 17.562601 17.169127 17.562601\n",
      " 17.562601 17.16917  17.190277 17.562601 17.562601 17.562601 16.626986\n",
      " 17.206717 17.562601 17.16011  17.562601 17.562601 17.562601 17.193249\n",
      " 17.157318 17.163507 17.21519  16.626986 17.16424  16.626986 17.154469\n",
      " 17.208445 17.153143 16.626986 17.180454 17.200235 16.626986 17.160952\n",
      " 17.562601 16.626986 17.562601 16.626986 17.165653 17.227453 17.562601\n",
      " 17.562601 17.562601 17.175592 17.159136 17.165033 17.562601 17.562601\n",
      " 17.562601 17.165806 17.562601 17.157034 17.162792 17.19324  17.562601\n",
      " 17.562601 17.562601 17.152082 18.416319 17.562601 17.188992 17.562601\n",
      " 17.16464  17.15735  17.562601 17.562601 17.562601 17.173473 16.626986\n",
      " 17.18261  17.562601 17.227453 17.15994  17.173746 17.171722 17.165369\n",
      " 16.626986 16.626986 17.562601 17.562601 17.562601 17.150099 17.562601\n",
      " 17.562601 17.173668 17.562601 17.562601 17.165396 17.18292  17.151123\n",
      " 17.227453 17.562601 17.562601 17.562601 17.562601 17.562601 17.169926\n",
      " 17.562601 17.160006 17.167719 17.562601 17.178236 17.15965  17.562601\n",
      " 17.227453 17.562601 16.626986 17.562601 17.562601 17.208403 17.562601\n",
      " 17.562601 17.153091 17.562601 17.162687 17.163189 17.17298  17.562601\n",
      " 17.16982  17.562601 16.626986 17.562601 17.157595 17.169413 17.172909\n",
      " 17.562601 17.562601 17.562601 16.626986 17.562601 17.562601 17.18255\n",
      " 17.562601 17.562601 17.562601 17.562601 17.166204 17.168095 17.562601\n",
      " 17.163984 17.166008 17.562601 17.227453 17.175282 17.180721 17.562601\n",
      " 16.626986 17.562601 17.562601 17.186415 17.562601 17.165949 17.16455\n",
      " 17.163456 17.158228 17.562601 16.626986 17.170435 17.179575 17.562601\n",
      " 17.163437 16.626986 17.162271 17.227453 16.626986 17.16497  17.562601\n",
      " 17.158213 17.1648   17.200129 17.562601 17.172731 16.626986 17.562601\n",
      " 17.562601 17.562601 17.562601 17.162113 17.562601 17.179945 17.17273\n",
      " 17.562601 17.562601 17.174803 17.180141 16.626986 17.158398 17.562601\n",
      " 17.162693 17.562601 17.562601 17.562601 17.562601 17.169874 17.562601\n",
      " 17.562601 17.562601 17.562601 17.182251 17.170412 17.239155 17.176798\n",
      " 17.562601 12.0092   17.562601 17.227453 17.562601 17.169123 17.151037\n",
      " 17.562601 17.227453 17.163383 17.16291  17.179508 17.562601 17.562601\n",
      " 16.626986 17.562601 17.562601 17.15165  17.158415 16.626986 17.562601\n",
      " 17.562601 16.626986 17.193987 17.562601 17.562601 17.562601 17.562601\n",
      " 17.562601 17.19732  17.163406 17.168423 17.178082 17.562601 17.152061\n",
      " 17.17129  17.562601 17.20317  17.562601 17.562601 17.562601 17.562601\n",
      " 17.562601 17.189896 16.821503 17.171839 17.562601 17.165428 17.562601\n",
      " 17.169086 17.175207 17.562601 16.626986 17.562601 16.626986 17.17607\n",
      " 17.562601 17.562601 17.562601 17.173859 17.562601 17.562601 16.626986\n",
      " 17.562601 16.626986 17.159819 17.562601 17.562601 17.208838 16.626986\n",
      " 17.16466  17.562601 17.562601 17.562601 17.169094 17.562601 17.562601\n",
      " 17.562601 17.191992] [15.25767773 15.67954135 13.41349027 13.71877862 13.3266373  11.10745677\n",
      " 22.48975163 15.19861311 21.81117698 15.11256427 14.56862781 15.72933577\n",
      " 12.39092306 23.78861482 17.37955811 15.6008632  19.2217641  11.25394176\n",
      " 32.69874707 14.11482468 14.27682266  9.82021498 14.69126742 20.64907086\n",
      " 12.81411368 17.32597918 17.11852321 14.66042587 19.49086653 16.17511971\n",
      " 17.04481742 32.69874707 18.21638173 32.69874707 17.69925385 27.53660344\n",
      " 12.50886883 19.88969327 18.31238207 15.81824971 14.99999453 13.55977735\n",
      " 15.49801771 20.84967434 14.65763672 10.69761461 17.21342829 13.1631698\n",
      " 21.77308335  9.34309399 17.65559991 19.73529776 19.66246051 17.11710454\n",
      " 25.26888678 13.74098646 13.41152284 18.21107512 12.55177693 24.14840377\n",
      " 13.63100089 21.12022996 17.53732349 13.56792554 12.82026877 14.9950617\n",
      " 16.51264566 14.54505773 16.07990943 13.74192384 22.69129608 14.54364397\n",
      " 12.91227481 25.35754543 19.16670427 16.23257982 12.23992565 13.14306708\n",
      " 13.93622391 11.28094728 15.24083195 18.43138293 12.82447171 12.27811001\n",
      " 19.74827043 20.16709113 10.85947304 21.41215898 16.78871239 21.74342163\n",
      " 12.87484064 12.92910363 17.28044111 11.42823362 19.27205665 13.02636285\n",
      " 14.91416324 18.00738149 14.35312612 13.99903275 15.38098857 18.51419595\n",
      " 16.6516789  17.86581797 16.25518735 24.11782922 14.36457649 10.56205352\n",
      " 14.60112231 15.3481433  22.52974908 31.18583123 15.93904236 18.92606473\n",
      " 23.59329712 10.85679493 14.74254255 12.00992972 19.56048529 32.69874707\n",
      " 18.48380598 17.46581313 16.30432354 16.83856281 15.09934391 15.69998986\n",
      " 13.39906664 17.10947589 14.66598889 18.19780524 22.83641641 14.50470329\n",
      " 22.13694453 12.25210648 15.16886003 12.93395587 13.19649512 24.16962475\n",
      " 17.14615566 10.73164461 24.3118393  19.40378617 18.22728944 13.261654\n",
      " 13.1724999   9.         19.04003544 27.28141846 22.24165234 10.67257885\n",
      " 15.50217014 14.94831334 15.88290131 21.88809641 11.27936244  9.79536308\n",
      " 17.93043676 15.93287836 28.86646505 16.13355073 14.21398445 32.69874707\n",
      " 10.29215615 17.30257077 16.33088121 13.71162222 17.61844462 23.03389615\n",
      " 14.99451481 18.28610568 32.69874707 16.41169475 11.42125088 14.49054205\n",
      " 22.0226837  14.99466857 13.42555416 17.80246517 15.18356369 22.35896617\n",
      " 12.90616878 21.64976389 20.92481484 11.25825052 13.09710416 11.79419748\n",
      " 10.66954117 24.79020247 26.80730388 22.52192352 13.03619126 20.29075716\n",
      " 15.81535249 18.18960412 26.28020941 21.45130759 21.11743264 16.93862859\n",
      " 14.39271449 10.55571023 18.55993012 13.69669044 15.50639008 14.33431535\n",
      " 11.88556596 12.50452889 20.09142503 12.57446128 14.36133942 17.64816286\n",
      " 20.47497407 12.64079399 18.03811647 12.27772939 10.85443977 16.03765176\n",
      " 18.06913054 29.21350136 14.17787019 12.13546033 13.82483272 19.19863396\n",
      " 25.24632456 32.69874707 15.31339021 22.10731307 20.07871888 11.11470234\n",
      " 15.44475966 20.24596436 13.98633152 11.02441555 23.06432998 19.8135482\n",
      " 15.03941236 18.48934169 24.48737998 18.06868099 15.48074619 14.24181647\n",
      " 15.42649635 13.6253921  16.26649299 14.16543623 19.19507694 10.67752461\n",
      " 21.78177423 17.07773595 12.37496551 18.39379302 11.20675821 15.94446329\n",
      " 11.71859359 13.4475946  17.95511878 18.06759079 10.25261639 15.58252047\n",
      " 12.08288087 12.82486105 11.36627458 18.71163112  9.73335614 10.97013213\n",
      " 15.29934093 10.30499956 26.00684222 18.81809205 20.59940615 18.54527454\n",
      " 17.40194779 19.91115032 10.73047067 22.35727104 21.90335143 19.35787336\n",
      " 26.55049188 30.39504223 15.02137876 18.65607484 32.69874707 14.02477529\n",
      " 16.30139322 13.37675389 22.6220967  11.07908418 21.37800405 12.82339793\n",
      " 19.3617299  19.0523206  14.84441511 14.95071455 20.23156271 13.93605863\n",
      " 25.82675384 12.03861307 13.95532398 32.69874707 10.69245891 19.09634171\n",
      " 22.55719716 20.86507151 13.32032823 12.87026086 11.52635741 17.54828466\n",
      " 31.51948332 12.2289681  10.20431374 30.9225488  17.18162612 12.48976359\n",
      " 11.9235051  16.9175297   9.24059176 20.21660183 12.5835583  25.99284729\n",
      " 16.61182888 17.37032211 15.02725787 14.86985161 20.81618798 16.18978662\n",
      " 27.96834536 19.9073669  14.34900099 15.17431531 10.5494849  30.28033827\n",
      "  9.97722096 30.77774242 28.62028215 15.21860277 15.83180256 12.08881755\n",
      " 16.12202444 14.1130937  16.28960098 15.36454212 16.31438319 17.01057093\n",
      " 24.67661788 11.36044413 10.47026705 26.55185659 10.03836018 32.69874707\n",
      " 13.15420156 12.41299363 18.70667181 15.53144233 24.58696939 22.46677062\n",
      " 16.13075122 10.34935004  9.55630642 10.88335467 32.69874707 17.27108189\n",
      " 13.27138682 28.80049278 12.95504209 26.438518   10.68086639 21.09876205\n",
      "  9.48860081 26.26477646 14.46625498 14.24706265 23.13747788 18.32570002\n",
      " 12.74131088 15.44020526 14.81313288 11.32780457 15.50748568  9.44033111\n",
      " 15.14461566 11.02749072 17.99458025 32.69874707 14.94193986 11.80186989\n",
      " 14.02952405 13.8027064  16.86922275 17.24750738 11.86797135 18.34766945\n",
      " 22.23434039 17.00687232 15.85713015 32.69874707 17.79492927 14.05777312\n",
      " 23.007738   19.46507018 27.35418459  9.55057342 15.16049922 11.02836007\n",
      " 14.5922692  12.17846054 18.26552909 13.51307106 26.96385341 16.89547355\n",
      " 17.07140868 16.66231048 21.40207227 17.72258752 16.22188563 12.46979134\n",
      " 13.05644064 12.97401808 18.50966242 18.72926282 19.95512719 14.6881153\n",
      " 16.5606518  16.55020575 19.67665096 16.35371414 17.21488184 10.00799499\n",
      " 25.76077913 22.51833312 11.16051349 14.12848305 29.83503006 32.69874707\n",
      " 14.50393146 19.42086673 13.95619962 16.73288534 19.59531714 18.06938661\n",
      " 24.08681594 22.12768527 12.65569954 16.59739306 10.1410847  19.14149604\n",
      " 14.56829918 10.06896033 32.69874707 14.57360648 22.56166764 13.93780334\n",
      " 20.88856947 15.66274175 20.65176612 16.75093038 19.34742439 20.56166259\n",
      " 12.2468327 ]\n"
     ]
    }
   ],
   "source": [
    "print(results, y_test)"
   ]
  },
  {
   "cell_type": "code",
   "execution_count": 80,
   "metadata": {},
   "outputs": [
    {
     "data": {
      "text/plain": [
       "<tf.Tensor: shape=(), dtype=float32, numpy=28.722319>"
      ]
     },
     "execution_count": 80,
     "metadata": {},
     "output_type": "execute_result"
    }
   ],
   "source": [
    "tf.keras.losses.MSE(y_test, results)"
   ]
  },
  {
   "cell_type": "code",
   "execution_count": 108,
   "metadata": {},
   "outputs": [
    {
     "name": "stdout",
     "output_type": "stream",
     "text": [
      "Failed to import pydot. You must install pydot and graphviz for `pydotprint` to work.\n"
     ]
    }
   ],
   "source": [
    "tf.keras.utils.plot_model(model)"
   ]
  },
  {
   "cell_type": "code",
   "execution_count": null,
   "metadata": {},
   "outputs": [],
   "source": []
  }
 ],
 "metadata": {
  "kernelspec": {
   "display_name": "Python 3",
   "language": "python",
   "name": "python3"
  },
  "language_info": {
   "codemirror_mode": {
    "name": "ipython",
    "version": 3
   },
   "file_extension": ".py",
   "mimetype": "text/x-python",
   "name": "python",
   "nbconvert_exporter": "python",
   "pygments_lexer": "ipython3",
   "version": "3.6.5"
  }
 },
 "nbformat": 4,
 "nbformat_minor": 2
}
